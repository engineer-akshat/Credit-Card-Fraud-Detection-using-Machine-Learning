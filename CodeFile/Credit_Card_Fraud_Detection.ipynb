{
 "cells": [
  {
   "cell_type": "markdown",
   "id": "ZwFXAiWTtP8u",
   "metadata": {
    "id": "ZwFXAiWTtP8u"
   },
   "source": [
    "# Credit Card Fraud Detection\n",
    "\n",
    "## Problem Statement\n",
    "Credit card fraud is a form of identity theft that involves an unauthorized taking of another's credit card information for the purpose of charging purchases to the account or removing funds from it.\n",
    "\n",
    "In this project I have built a machine learning model that can accurately detect fraudulent credit card transactions based on the following features:\n",
    "['step', 'type', 'amount', 'nameOrig', 'oldbalanceOrg', 'newbalanceOrig','nameDest', 'oldbalanceDest', 'newbalanceDest', 'isFraud','isFlaggedFraud']\n",
    "\n",
    "The dataset used for this project is available on Kaggle through this [link.](https://www.kaggle.com/datasets/ealaxi/paysim1)"
   ]
  },
  {
   "cell_type": "markdown",
   "id": "HptV8x9Kuna8",
   "metadata": {
    "id": "HptV8x9Kuna8"
   },
   "source": [
    "## Installing the requirements and loading the data"
   ]
  },
  {
   "cell_type": "code",
   "execution_count": 122,
   "id": "DlBChhyuzfBS",
   "metadata": {
    "colab": {
     "base_uri": "https://localhost:8080/"
    },
    "id": "DlBChhyuzfBS",
    "outputId": "2bf79345-686b-423d-b7d6-bf9ca160560e"
   },
   "outputs": [
    {
     "name": "stdout",
     "output_type": "stream",
     "text": [
      "Overwriting requirements.txt\n"
     ]
    }
   ],
   "source": [
    "%%writefile requirements.txt\n",
    "colabcode\n",
    "python-multipart\n",
    "pyngrok"
   ]
  },
  {
   "cell_type": "code",
   "execution_count": 124,
   "id": "abLFRjm_z-4D",
   "metadata": {
    "colab": {
     "base_uri": "https://localhost:8080/"
    },
    "id": "abLFRjm_z-4D",
    "outputId": "8241bf84-f3ee-45d3-fcef-25e0dd0f6a4c"
   },
   "outputs": [
    {
     "name": "stdout",
     "output_type": "stream",
     "text": [
      "Requirement already satisfied: colabcode in /opt/anaconda3/lib/python3.11/site-packages (from -r requirements.txt (line 1)) (0.3.0)\n",
      "Requirement already satisfied: python-multipart in /opt/anaconda3/lib/python3.11/site-packages (from -r requirements.txt (line 2)) (0.0.20)\n",
      "Requirement already satisfied: pyngrok in /opt/anaconda3/lib/python3.11/site-packages (from -r requirements.txt (line 3)) (7.2.13)\n",
      "Requirement already satisfied: nest-asyncio==1.4.3 in /opt/anaconda3/lib/python3.11/site-packages (from colabcode->-r requirements.txt (line 1)) (1.4.3)\n",
      "Requirement already satisfied: uvicorn==0.13.1 in /opt/anaconda3/lib/python3.11/site-packages (from colabcode->-r requirements.txt (line 1)) (0.13.1)\n",
      "Requirement already satisfied: jupyterlab==3.0.7 in /opt/anaconda3/lib/python3.11/site-packages (from colabcode->-r requirements.txt (line 1)) (3.0.7)\n",
      "Requirement already satisfied: ipython in /opt/anaconda3/lib/python3.11/site-packages (from jupyterlab==3.0.7->colabcode->-r requirements.txt (line 1)) (8.20.0)\n",
      "Requirement already satisfied: packaging in /opt/anaconda3/lib/python3.11/site-packages (from jupyterlab==3.0.7->colabcode->-r requirements.txt (line 1)) (23.2)\n",
      "Requirement already satisfied: tornado>=6.1.0 in /opt/anaconda3/lib/python3.11/site-packages (from jupyterlab==3.0.7->colabcode->-r requirements.txt (line 1)) (6.3.3)\n",
      "Requirement already satisfied: jupyter-core in /opt/anaconda3/lib/python3.11/site-packages (from jupyterlab==3.0.7->colabcode->-r requirements.txt (line 1)) (5.5.0)\n",
      "Requirement already satisfied: jupyterlab-server~=2.0 in /opt/anaconda3/lib/python3.11/site-packages (from jupyterlab==3.0.7->colabcode->-r requirements.txt (line 1)) (2.25.1)\n",
      "Requirement already satisfied: jupyter-server~=1.2 in /opt/anaconda3/lib/python3.11/site-packages (from jupyterlab==3.0.7->colabcode->-r requirements.txt (line 1)) (1.24.0)\n",
      "Requirement already satisfied: nbclassic~=0.2 in /opt/anaconda3/lib/python3.11/site-packages (from jupyterlab==3.0.7->colabcode->-r requirements.txt (line 1)) (0.3.7)\n",
      "Requirement already satisfied: jinja2>=2.10 in /opt/anaconda3/lib/python3.11/site-packages (from jupyterlab==3.0.7->colabcode->-r requirements.txt (line 1)) (3.1.3)\n",
      "Requirement already satisfied: click==7.* in /opt/anaconda3/lib/python3.11/site-packages (from uvicorn==0.13.1->colabcode->-r requirements.txt (line 1)) (7.1.2)\n",
      "Requirement already satisfied: h11>=0.8 in /opt/anaconda3/lib/python3.11/site-packages (from uvicorn==0.13.1->colabcode->-r requirements.txt (line 1)) (0.14.0)\n",
      "Requirement already satisfied: PyYAML>=5.1 in /opt/anaconda3/lib/python3.11/site-packages (from pyngrok->-r requirements.txt (line 3)) (6.0.1)\n",
      "Requirement already satisfied: MarkupSafe>=2.0 in /opt/anaconda3/lib/python3.11/site-packages (from jinja2>=2.10->jupyterlab==3.0.7->colabcode->-r requirements.txt (line 1)) (2.1.3)\n",
      "Requirement already satisfied: anyio<4,>=3.1.0 in /opt/anaconda3/lib/python3.11/site-packages (from jupyter-server~=1.2->jupyterlab==3.0.7->colabcode->-r requirements.txt (line 1)) (3.7.1)\n",
      "Requirement already satisfied: argon2-cffi in /opt/anaconda3/lib/python3.11/site-packages (from jupyter-server~=1.2->jupyterlab==3.0.7->colabcode->-r requirements.txt (line 1)) (21.3.0)\n",
      "Requirement already satisfied: jupyter-client>=6.1.12 in /opt/anaconda3/lib/python3.11/site-packages (from jupyter-server~=1.2->jupyterlab==3.0.7->colabcode->-r requirements.txt (line 1)) (8.6.0)\n",
      "Requirement already satisfied: nbconvert>=6.4.4 in /opt/anaconda3/lib/python3.11/site-packages (from jupyter-server~=1.2->jupyterlab==3.0.7->colabcode->-r requirements.txt (line 1)) (7.10.0)\n",
      "Requirement already satisfied: nbformat>=5.2.0 in /opt/anaconda3/lib/python3.11/site-packages (from jupyter-server~=1.2->jupyterlab==3.0.7->colabcode->-r requirements.txt (line 1)) (5.9.2)\n",
      "Requirement already satisfied: prometheus-client in /opt/anaconda3/lib/python3.11/site-packages (from jupyter-server~=1.2->jupyterlab==3.0.7->colabcode->-r requirements.txt (line 1)) (0.14.1)\n",
      "Requirement already satisfied: pyzmq>=17 in /opt/anaconda3/lib/python3.11/site-packages (from jupyter-server~=1.2->jupyterlab==3.0.7->colabcode->-r requirements.txt (line 1)) (25.1.2)\n",
      "Requirement already satisfied: Send2Trash in /opt/anaconda3/lib/python3.11/site-packages (from jupyter-server~=1.2->jupyterlab==3.0.7->colabcode->-r requirements.txt (line 1)) (1.8.2)\n",
      "Requirement already satisfied: terminado>=0.8.3 in /opt/anaconda3/lib/python3.11/site-packages (from jupyter-server~=1.2->jupyterlab==3.0.7->colabcode->-r requirements.txt (line 1)) (0.17.1)\n",
      "Requirement already satisfied: traitlets>=5.1 in /opt/anaconda3/lib/python3.11/site-packages (from jupyter-server~=1.2->jupyterlab==3.0.7->colabcode->-r requirements.txt (line 1)) (5.7.1)\n",
      "Requirement already satisfied: websocket-client in /opt/anaconda3/lib/python3.11/site-packages (from jupyter-server~=1.2->jupyterlab==3.0.7->colabcode->-r requirements.txt (line 1)) (1.8.0)\n",
      "Requirement already satisfied: platformdirs>=2.5 in /opt/anaconda3/lib/python3.11/site-packages (from jupyter-core->jupyterlab==3.0.7->colabcode->-r requirements.txt (line 1)) (3.10.0)\n",
      "Requirement already satisfied: babel>=2.10 in /opt/anaconda3/lib/python3.11/site-packages (from jupyterlab-server~=2.0->jupyterlab==3.0.7->colabcode->-r requirements.txt (line 1)) (2.11.0)\n",
      "Requirement already satisfied: json5>=0.9.0 in /opt/anaconda3/lib/python3.11/site-packages (from jupyterlab-server~=2.0->jupyterlab==3.0.7->colabcode->-r requirements.txt (line 1)) (0.9.6)\n",
      "Requirement already satisfied: jsonschema>=4.18.0 in /opt/anaconda3/lib/python3.11/site-packages (from jupyterlab-server~=2.0->jupyterlab==3.0.7->colabcode->-r requirements.txt (line 1)) (4.23.0)\n",
      "Requirement already satisfied: requests>=2.31 in /opt/anaconda3/lib/python3.11/site-packages (from jupyterlab-server~=2.0->jupyterlab==3.0.7->colabcode->-r requirements.txt (line 1)) (2.31.0)\n",
      "Requirement already satisfied: notebook<7 in /opt/anaconda3/lib/python3.11/site-packages (from nbclassic~=0.2->jupyterlab==3.0.7->colabcode->-r requirements.txt (line 1)) (6.4.5)\n",
      "Requirement already satisfied: notebook-shim>=0.1.0 in /opt/anaconda3/lib/python3.11/site-packages (from nbclassic~=0.2->jupyterlab==3.0.7->colabcode->-r requirements.txt (line 1)) (0.2.3)\n",
      "Requirement already satisfied: decorator in /opt/anaconda3/lib/python3.11/site-packages (from ipython->jupyterlab==3.0.7->colabcode->-r requirements.txt (line 1)) (5.1.1)\n",
      "Requirement already satisfied: jedi>=0.16 in /opt/anaconda3/lib/python3.11/site-packages (from ipython->jupyterlab==3.0.7->colabcode->-r requirements.txt (line 1)) (0.18.1)\n",
      "Requirement already satisfied: matplotlib-inline in /opt/anaconda3/lib/python3.11/site-packages (from ipython->jupyterlab==3.0.7->colabcode->-r requirements.txt (line 1)) (0.1.6)\n",
      "Requirement already satisfied: prompt-toolkit<3.1.0,>=3.0.41 in /opt/anaconda3/lib/python3.11/site-packages (from ipython->jupyterlab==3.0.7->colabcode->-r requirements.txt (line 1)) (3.0.43)\n",
      "Requirement already satisfied: pygments>=2.4.0 in /opt/anaconda3/lib/python3.11/site-packages (from ipython->jupyterlab==3.0.7->colabcode->-r requirements.txt (line 1)) (2.15.1)\n",
      "Requirement already satisfied: stack-data in /opt/anaconda3/lib/python3.11/site-packages (from ipython->jupyterlab==3.0.7->colabcode->-r requirements.txt (line 1)) (0.2.0)\n",
      "Requirement already satisfied: pexpect>4.3 in /opt/anaconda3/lib/python3.11/site-packages (from ipython->jupyterlab==3.0.7->colabcode->-r requirements.txt (line 1)) (4.8.0)\n",
      "Requirement already satisfied: idna>=2.8 in /opt/anaconda3/lib/python3.11/site-packages (from anyio<4,>=3.1.0->jupyter-server~=1.2->jupyterlab==3.0.7->colabcode->-r requirements.txt (line 1)) (3.4)\n",
      "Requirement already satisfied: sniffio>=1.1 in /opt/anaconda3/lib/python3.11/site-packages (from anyio<4,>=3.1.0->jupyter-server~=1.2->jupyterlab==3.0.7->colabcode->-r requirements.txt (line 1)) (1.3.0)\n",
      "Requirement already satisfied: pytz>=2015.7 in /opt/anaconda3/lib/python3.11/site-packages (from babel>=2.10->jupyterlab-server~=2.0->jupyterlab==3.0.7->colabcode->-r requirements.txt (line 1)) (2023.3.post1)\n",
      "Requirement already satisfied: parso<0.9.0,>=0.8.0 in /opt/anaconda3/lib/python3.11/site-packages (from jedi>=0.16->ipython->jupyterlab==3.0.7->colabcode->-r requirements.txt (line 1)) (0.8.3)\n",
      "Requirement already satisfied: attrs>=22.2.0 in /opt/anaconda3/lib/python3.11/site-packages (from jsonschema>=4.18.0->jupyterlab-server~=2.0->jupyterlab==3.0.7->colabcode->-r requirements.txt (line 1)) (24.2.0)\n",
      "Requirement already satisfied: jsonschema-specifications>=2023.03.6 in /opt/anaconda3/lib/python3.11/site-packages (from jsonschema>=4.18.0->jupyterlab-server~=2.0->jupyterlab==3.0.7->colabcode->-r requirements.txt (line 1)) (2023.7.1)\n",
      "Requirement already satisfied: referencing>=0.28.4 in /opt/anaconda3/lib/python3.11/site-packages (from jsonschema>=4.18.0->jupyterlab-server~=2.0->jupyterlab==3.0.7->colabcode->-r requirements.txt (line 1)) (0.30.2)\n",
      "Requirement already satisfied: rpds-py>=0.7.1 in /opt/anaconda3/lib/python3.11/site-packages (from jsonschema>=4.18.0->jupyterlab-server~=2.0->jupyterlab==3.0.7->colabcode->-r requirements.txt (line 1)) (0.10.6)\n",
      "Requirement already satisfied: python-dateutil>=2.8.2 in /opt/anaconda3/lib/python3.11/site-packages (from jupyter-client>=6.1.12->jupyter-server~=1.2->jupyterlab==3.0.7->colabcode->-r requirements.txt (line 1)) (2.8.2)\n",
      "Requirement already satisfied: beautifulsoup4 in /opt/anaconda3/lib/python3.11/site-packages (from nbconvert>=6.4.4->jupyter-server~=1.2->jupyterlab==3.0.7->colabcode->-r requirements.txt (line 1)) (4.12.2)\n",
      "Requirement already satisfied: bleach!=5.0.0 in /opt/anaconda3/lib/python3.11/site-packages (from nbconvert>=6.4.4->jupyter-server~=1.2->jupyterlab==3.0.7->colabcode->-r requirements.txt (line 1)) (4.1.0)\n",
      "Requirement already satisfied: defusedxml in /opt/anaconda3/lib/python3.11/site-packages (from nbconvert>=6.4.4->jupyter-server~=1.2->jupyterlab==3.0.7->colabcode->-r requirements.txt (line 1)) (0.7.1)\n",
      "Requirement already satisfied: jupyterlab-pygments in /opt/anaconda3/lib/python3.11/site-packages (from nbconvert>=6.4.4->jupyter-server~=1.2->jupyterlab==3.0.7->colabcode->-r requirements.txt (line 1)) (0.1.2)\n",
      "Requirement already satisfied: mistune<4,>=2.0.3 in /opt/anaconda3/lib/python3.11/site-packages (from nbconvert>=6.4.4->jupyter-server~=1.2->jupyterlab==3.0.7->colabcode->-r requirements.txt (line 1)) (2.0.4)\n",
      "Requirement already satisfied: nbclient>=0.5.0 in /opt/anaconda3/lib/python3.11/site-packages (from nbconvert>=6.4.4->jupyter-server~=1.2->jupyterlab==3.0.7->colabcode->-r requirements.txt (line 1)) (0.8.0)\n",
      "Requirement already satisfied: pandocfilters>=1.4.1 in /opt/anaconda3/lib/python3.11/site-packages (from nbconvert>=6.4.4->jupyter-server~=1.2->jupyterlab==3.0.7->colabcode->-r requirements.txt (line 1)) (1.5.0)\n",
      "Requirement already satisfied: tinycss2 in /opt/anaconda3/lib/python3.11/site-packages (from nbconvert>=6.4.4->jupyter-server~=1.2->jupyterlab==3.0.7->colabcode->-r requirements.txt (line 1)) (1.2.1)\n",
      "Requirement already satisfied: fastjsonschema in /opt/anaconda3/lib/python3.11/site-packages (from nbformat>=5.2.0->jupyter-server~=1.2->jupyterlab==3.0.7->colabcode->-r requirements.txt (line 1)) (2.16.2)\n",
      "Requirement already satisfied: ipython-genutils in /opt/anaconda3/lib/python3.11/site-packages (from notebook<7->nbclassic~=0.2->jupyterlab==3.0.7->colabcode->-r requirements.txt (line 1)) (0.2.0)\n",
      "Requirement already satisfied: ipykernel in /opt/anaconda3/lib/python3.11/site-packages (from notebook<7->nbclassic~=0.2->jupyterlab==3.0.7->colabcode->-r requirements.txt (line 1)) (6.28.0)\n",
      "Requirement already satisfied: ptyprocess>=0.5 in /opt/anaconda3/lib/python3.11/site-packages (from pexpect>4.3->ipython->jupyterlab==3.0.7->colabcode->-r requirements.txt (line 1)) (0.7.0)\n",
      "Requirement already satisfied: wcwidth in /opt/anaconda3/lib/python3.11/site-packages (from prompt-toolkit<3.1.0,>=3.0.41->ipython->jupyterlab==3.0.7->colabcode->-r requirements.txt (line 1)) (0.2.5)\n",
      "Requirement already satisfied: charset-normalizer<4,>=2 in /opt/anaconda3/lib/python3.11/site-packages (from requests>=2.31->jupyterlab-server~=2.0->jupyterlab==3.0.7->colabcode->-r requirements.txt (line 1)) (2.0.4)\n",
      "Requirement already satisfied: urllib3<3,>=1.21.1 in /opt/anaconda3/lib/python3.11/site-packages (from requests>=2.31->jupyterlab-server~=2.0->jupyterlab==3.0.7->colabcode->-r requirements.txt (line 1)) (2.0.7)\n",
      "Requirement already satisfied: certifi>=2017.4.17 in /opt/anaconda3/lib/python3.11/site-packages (from requests>=2.31->jupyterlab-server~=2.0->jupyterlab==3.0.7->colabcode->-r requirements.txt (line 1)) (2024.12.14)\n",
      "Requirement already satisfied: argon2-cffi-bindings in /opt/anaconda3/lib/python3.11/site-packages (from argon2-cffi->jupyter-server~=1.2->jupyterlab==3.0.7->colabcode->-r requirements.txt (line 1)) (21.2.0)\n",
      "Requirement already satisfied: executing in /opt/anaconda3/lib/python3.11/site-packages (from stack-data->ipython->jupyterlab==3.0.7->colabcode->-r requirements.txt (line 1)) (0.8.3)\n",
      "Requirement already satisfied: asttokens in /opt/anaconda3/lib/python3.11/site-packages (from stack-data->ipython->jupyterlab==3.0.7->colabcode->-r requirements.txt (line 1)) (2.0.5)\n",
      "Requirement already satisfied: pure-eval in /opt/anaconda3/lib/python3.11/site-packages (from stack-data->ipython->jupyterlab==3.0.7->colabcode->-r requirements.txt (line 1)) (0.2.2)\n",
      "Requirement already satisfied: six>=1.9.0 in /opt/anaconda3/lib/python3.11/site-packages (from bleach!=5.0.0->nbconvert>=6.4.4->jupyter-server~=1.2->jupyterlab==3.0.7->colabcode->-r requirements.txt (line 1)) (1.16.0)\n",
      "Requirement already satisfied: webencodings in /opt/anaconda3/lib/python3.11/site-packages (from bleach!=5.0.0->nbconvert>=6.4.4->jupyter-server~=1.2->jupyterlab==3.0.7->colabcode->-r requirements.txt (line 1)) (0.5.1)\n",
      "Requirement already satisfied: cffi>=1.0.1 in /opt/anaconda3/lib/python3.11/site-packages (from argon2-cffi-bindings->argon2-cffi->jupyter-server~=1.2->jupyterlab==3.0.7->colabcode->-r requirements.txt (line 1)) (1.16.0)\n",
      "Requirement already satisfied: soupsieve>1.2 in /opt/anaconda3/lib/python3.11/site-packages (from beautifulsoup4->nbconvert>=6.4.4->jupyter-server~=1.2->jupyterlab==3.0.7->colabcode->-r requirements.txt (line 1)) (2.5)\n",
      "Requirement already satisfied: appnope in /opt/anaconda3/lib/python3.11/site-packages (from ipykernel->notebook<7->nbclassic~=0.2->jupyterlab==3.0.7->colabcode->-r requirements.txt (line 1)) (0.1.2)\n",
      "Requirement already satisfied: comm>=0.1.1 in /opt/anaconda3/lib/python3.11/site-packages (from ipykernel->notebook<7->nbclassic~=0.2->jupyterlab==3.0.7->colabcode->-r requirements.txt (line 1)) (0.2.2)\n",
      "Requirement already satisfied: debugpy>=1.6.5 in /opt/anaconda3/lib/python3.11/site-packages (from ipykernel->notebook<7->nbclassic~=0.2->jupyterlab==3.0.7->colabcode->-r requirements.txt (line 1)) (1.6.7)\n",
      "Requirement already satisfied: psutil in /opt/anaconda3/lib/python3.11/site-packages (from ipykernel->notebook<7->nbclassic~=0.2->jupyterlab==3.0.7->colabcode->-r requirements.txt (line 1)) (5.9.0)\n",
      "Requirement already satisfied: pycparser in /opt/anaconda3/lib/python3.11/site-packages (from cffi>=1.0.1->argon2-cffi-bindings->argon2-cffi->jupyter-server~=1.2->jupyterlab==3.0.7->colabcode->-r requirements.txt (line 1)) (2.21)\n"
     ]
    }
   ],
   "source": [
    "!pip install -r requirements.txt"
   ]
  },
  {
   "cell_type": "markdown",
   "id": "3M3U7Z5Sx37n",
   "metadata": {
    "id": "3M3U7Z5Sx37n"
   },
   "source": [
    "## Data Exploration and Analysis"
   ]
  },
  {
   "cell_type": "code",
   "execution_count": 8,
   "id": "247ba192-6b8f-4b5f-9719-439feeacb11e",
   "metadata": {
    "id": "247ba192-6b8f-4b5f-9719-439feeacb11e"
   },
   "outputs": [],
   "source": [
    "# Importing some important libraries\n",
    "import pandas as pd\n",
    "import numpy as np \n",
    "import matplotlib.pyplot as plt\n",
    "import seaborn as sns\n",
    "import warnings \n",
    "#warnings.filterwarnings('ignore')\n",
    "%matplotlib inline"
   ]
  },
  {
   "cell_type": "code",
   "execution_count": 10,
   "id": "55fbc4f3-a302-423a-b5df-8d87e591342e",
   "metadata": {
    "colab": {
     "base_uri": "https://localhost:8080/",
     "height": 206
    },
    "id": "55fbc4f3-a302-423a-b5df-8d87e591342e",
    "outputId": "36b1296c-d591-40d8-de55-22f2545170f1"
   },
   "outputs": [
    {
     "data": {
      "text/html": [
       "<div>\n",
       "<style scoped>\n",
       "    .dataframe tbody tr th:only-of-type {\n",
       "        vertical-align: middle;\n",
       "    }\n",
       "\n",
       "    .dataframe tbody tr th {\n",
       "        vertical-align: top;\n",
       "    }\n",
       "\n",
       "    .dataframe thead th {\n",
       "        text-align: right;\n",
       "    }\n",
       "</style>\n",
       "<table border=\"1\" class=\"dataframe\">\n",
       "  <thead>\n",
       "    <tr style=\"text-align: right;\">\n",
       "      <th></th>\n",
       "      <th>step</th>\n",
       "      <th>type</th>\n",
       "      <th>amount</th>\n",
       "      <th>nameOrig</th>\n",
       "      <th>oldbalanceOrg</th>\n",
       "      <th>newbalanceOrig</th>\n",
       "      <th>nameDest</th>\n",
       "      <th>oldbalanceDest</th>\n",
       "      <th>newbalanceDest</th>\n",
       "      <th>isFraud</th>\n",
       "      <th>isFlaggedFraud</th>\n",
       "    </tr>\n",
       "  </thead>\n",
       "  <tbody>\n",
       "    <tr>\n",
       "      <th>0</th>\n",
       "      <td>1</td>\n",
       "      <td>PAYMENT</td>\n",
       "      <td>9839.64</td>\n",
       "      <td>C1231006815</td>\n",
       "      <td>170136.0</td>\n",
       "      <td>160296.36</td>\n",
       "      <td>M1979787155</td>\n",
       "      <td>0.0</td>\n",
       "      <td>0.0</td>\n",
       "      <td>0</td>\n",
       "      <td>0</td>\n",
       "    </tr>\n",
       "    <tr>\n",
       "      <th>1</th>\n",
       "      <td>1</td>\n",
       "      <td>PAYMENT</td>\n",
       "      <td>1864.28</td>\n",
       "      <td>C1666544295</td>\n",
       "      <td>21249.0</td>\n",
       "      <td>19384.72</td>\n",
       "      <td>M2044282225</td>\n",
       "      <td>0.0</td>\n",
       "      <td>0.0</td>\n",
       "      <td>0</td>\n",
       "      <td>0</td>\n",
       "    </tr>\n",
       "    <tr>\n",
       "      <th>2</th>\n",
       "      <td>1</td>\n",
       "      <td>TRANSFER</td>\n",
       "      <td>181.00</td>\n",
       "      <td>C1305486145</td>\n",
       "      <td>181.0</td>\n",
       "      <td>0.00</td>\n",
       "      <td>C553264065</td>\n",
       "      <td>0.0</td>\n",
       "      <td>0.0</td>\n",
       "      <td>1</td>\n",
       "      <td>0</td>\n",
       "    </tr>\n",
       "    <tr>\n",
       "      <th>3</th>\n",
       "      <td>1</td>\n",
       "      <td>CASH_OUT</td>\n",
       "      <td>181.00</td>\n",
       "      <td>C840083671</td>\n",
       "      <td>181.0</td>\n",
       "      <td>0.00</td>\n",
       "      <td>C38997010</td>\n",
       "      <td>21182.0</td>\n",
       "      <td>0.0</td>\n",
       "      <td>1</td>\n",
       "      <td>0</td>\n",
       "    </tr>\n",
       "    <tr>\n",
       "      <th>4</th>\n",
       "      <td>1</td>\n",
       "      <td>PAYMENT</td>\n",
       "      <td>11668.14</td>\n",
       "      <td>C2048537720</td>\n",
       "      <td>41554.0</td>\n",
       "      <td>29885.86</td>\n",
       "      <td>M1230701703</td>\n",
       "      <td>0.0</td>\n",
       "      <td>0.0</td>\n",
       "      <td>0</td>\n",
       "      <td>0</td>\n",
       "    </tr>\n",
       "  </tbody>\n",
       "</table>\n",
       "</div>"
      ],
      "text/plain": [
       "   step      type    amount     nameOrig  oldbalanceOrg  newbalanceOrig  \\\n",
       "0     1   PAYMENT   9839.64  C1231006815       170136.0       160296.36   \n",
       "1     1   PAYMENT   1864.28  C1666544295        21249.0        19384.72   \n",
       "2     1  TRANSFER    181.00  C1305486145          181.0            0.00   \n",
       "3     1  CASH_OUT    181.00   C840083671          181.0            0.00   \n",
       "4     1   PAYMENT  11668.14  C2048537720        41554.0        29885.86   \n",
       "\n",
       "      nameDest  oldbalanceDest  newbalanceDest  isFraud  isFlaggedFraud  \n",
       "0  M1979787155             0.0             0.0        0               0  \n",
       "1  M2044282225             0.0             0.0        0               0  \n",
       "2   C553264065             0.0             0.0        1               0  \n",
       "3    C38997010         21182.0             0.0        1               0  \n",
       "4  M1230701703             0.0             0.0        0               0  "
      ]
     },
     "execution_count": 10,
     "metadata": {},
     "output_type": "execute_result"
    }
   ],
   "source": [
    "df = pd.read_csv('paysim.csv')\n",
    "pd.set_option('display.max.columns', None)\n",
    "df.head()"
   ]
  },
  {
   "cell_type": "code",
   "execution_count": 12,
   "id": "9265f5a6-585c-4f94-8d95-27af0e4735a4",
   "metadata": {
    "colab": {
     "base_uri": "https://localhost:8080/"
    },
    "id": "9265f5a6-585c-4f94-8d95-27af0e4735a4",
    "outputId": "896fe318-a9ce-4fbe-be46-fad304196555"
   },
   "outputs": [
    {
     "data": {
      "text/plain": [
       "Index(['step', 'type', 'amount', 'nameOrig', 'oldbalanceOrg', 'newbalanceOrig',\n",
       "       'nameDest', 'oldbalanceDest', 'newbalanceDest', 'isFraud',\n",
       "       'isFlaggedFraud'],\n",
       "      dtype='object')"
      ]
     },
     "execution_count": 12,
     "metadata": {},
     "output_type": "execute_result"
    }
   ],
   "source": [
    "df.columns"
   ]
  },
  {
   "cell_type": "code",
   "execution_count": 14,
   "id": "346b4579-03b3-47b6-a430-8f5c00b35735",
   "metadata": {
    "colab": {
     "base_uri": "https://localhost:8080/"
    },
    "id": "346b4579-03b3-47b6-a430-8f5c00b35735",
    "outputId": "98d2bba2-b8b8-4f3e-9101-75615b152559"
   },
   "outputs": [
    {
     "name": "stdout",
     "output_type": "stream",
     "text": [
      "<class 'pandas.core.frame.DataFrame'>\n",
      "RangeIndex: 6362620 entries, 0 to 6362619\n",
      "Data columns (total 11 columns):\n",
      " #   Column          Dtype  \n",
      "---  ------          -----  \n",
      " 0   step            int64  \n",
      " 1   type            object \n",
      " 2   amount          float64\n",
      " 3   nameOrig        object \n",
      " 4   oldbalanceOrg   float64\n",
      " 5   newbalanceOrig  float64\n",
      " 6   nameDest        object \n",
      " 7   oldbalanceDest  float64\n",
      " 8   newbalanceDest  float64\n",
      " 9   isFraud         int64  \n",
      " 10  isFlaggedFraud  int64  \n",
      "dtypes: float64(5), int64(3), object(3)\n",
      "memory usage: 534.0+ MB\n"
     ]
    }
   ],
   "source": [
    "df.info()"
   ]
  },
  {
   "cell_type": "code",
   "execution_count": 16,
   "id": "74lzLf0awriT",
   "metadata": {
    "colab": {
     "base_uri": "https://localhost:8080/"
    },
    "id": "74lzLf0awriT",
    "outputId": "ebe47109-c236-4d8a-8226-6cc6eb12c0f1"
   },
   "outputs": [
    {
     "data": {
      "text/plain": [
       "(6362620, 11)"
      ]
     },
     "execution_count": 16,
     "metadata": {},
     "output_type": "execute_result"
    }
   ],
   "source": [
    "df.shape"
   ]
  },
  {
   "cell_type": "markdown",
   "id": "vQctdNjrwwi-",
   "metadata": {
    "id": "vQctdNjrwwi-"
   },
   "source": [
    "We can see that from the above cells the dataset has 11 columns and more than 6 million rows.\n",
    "This is the basic information about the dataset gotten from kaggle:\n",
    "\n",
    "This is a sample of 1 row with headers explanation:\n",
    "\n",
    "* 1,PAYMENT,1060.31,C429214117,1089.0,28.69,M1591654462,0.0,0.0,0,0\n",
    "* step - maps a unit of time in the real world. In this case 1 step is 1 hour of time. Total steps 744 (30 days simulation).\n",
    "* type - CASH-IN, CASH-OUT, DEBIT, PAYMENT and TRANSFER.\n",
    "* amount - amount of the transaction in local currency.\n",
    "* nameOrig - customer who started the transaction\n",
    "* oldbalanceOrg - initial balance before the transaction\n",
    "* newbalanceOrig - new balance after the transaction\n",
    "* nameDest - customer who is the recipient of the transaction\n",
    "* oldbalanceDest - initial balance recipient before the transaction. Note that there is not information for customers that start with M (Merchants).\n",
    "* newbalanceDest - new balance recipient after the transaction. Note that there is not information for customers that start with M (Merchants).\n",
    "* isFraud - This is the transactions made by the fraudulent agents inside the simulation. In this specific dataset the fraudulent behavior of the agents aims to profit by taking control or customers accounts and try to empty the funds by transferring to another account and then cashing out of the system.\n",
    "* isFlaggedFraud - The business model aims to control massive transfers from one account to another and flags illegal attempts. An illegal attempt in this dataset is an attempt to transfer more than 200.000 in a single transaction."
   ]
  },
  {
   "cell_type": "code",
   "execution_count": 19,
   "id": "62beb05e-02ed-4ff8-bd2d-9bd6c4d74afd",
   "metadata": {
    "colab": {
     "base_uri": "https://localhost:8080/",
     "height": 300
    },
    "id": "62beb05e-02ed-4ff8-bd2d-9bd6c4d74afd",
    "outputId": "cf80735f-bcd8-4eda-8fd1-aa6308ea169a"
   },
   "outputs": [
    {
     "data": {
      "text/html": [
       "<div>\n",
       "<style scoped>\n",
       "    .dataframe tbody tr th:only-of-type {\n",
       "        vertical-align: middle;\n",
       "    }\n",
       "\n",
       "    .dataframe tbody tr th {\n",
       "        vertical-align: top;\n",
       "    }\n",
       "\n",
       "    .dataframe thead th {\n",
       "        text-align: right;\n",
       "    }\n",
       "</style>\n",
       "<table border=\"1\" class=\"dataframe\">\n",
       "  <thead>\n",
       "    <tr style=\"text-align: right;\">\n",
       "      <th></th>\n",
       "      <th>count</th>\n",
       "      <th>mean</th>\n",
       "      <th>std</th>\n",
       "      <th>min</th>\n",
       "      <th>25%</th>\n",
       "      <th>50%</th>\n",
       "      <th>75%</th>\n",
       "      <th>max</th>\n",
       "    </tr>\n",
       "  </thead>\n",
       "  <tbody>\n",
       "    <tr>\n",
       "      <th>step</th>\n",
       "      <td>6362620.0</td>\n",
       "      <td>2.433972e+02</td>\n",
       "      <td>1.423320e+02</td>\n",
       "      <td>1.0</td>\n",
       "      <td>156.00</td>\n",
       "      <td>239.000</td>\n",
       "      <td>3.350000e+02</td>\n",
       "      <td>7.430000e+02</td>\n",
       "    </tr>\n",
       "    <tr>\n",
       "      <th>amount</th>\n",
       "      <td>6362620.0</td>\n",
       "      <td>1.798619e+05</td>\n",
       "      <td>6.038582e+05</td>\n",
       "      <td>0.0</td>\n",
       "      <td>13389.57</td>\n",
       "      <td>74871.940</td>\n",
       "      <td>2.087215e+05</td>\n",
       "      <td>9.244552e+07</td>\n",
       "    </tr>\n",
       "    <tr>\n",
       "      <th>oldbalanceOrg</th>\n",
       "      <td>6362620.0</td>\n",
       "      <td>8.338831e+05</td>\n",
       "      <td>2.888243e+06</td>\n",
       "      <td>0.0</td>\n",
       "      <td>0.00</td>\n",
       "      <td>14208.000</td>\n",
       "      <td>1.073152e+05</td>\n",
       "      <td>5.958504e+07</td>\n",
       "    </tr>\n",
       "    <tr>\n",
       "      <th>newbalanceOrig</th>\n",
       "      <td>6362620.0</td>\n",
       "      <td>8.551137e+05</td>\n",
       "      <td>2.924049e+06</td>\n",
       "      <td>0.0</td>\n",
       "      <td>0.00</td>\n",
       "      <td>0.000</td>\n",
       "      <td>1.442584e+05</td>\n",
       "      <td>4.958504e+07</td>\n",
       "    </tr>\n",
       "    <tr>\n",
       "      <th>oldbalanceDest</th>\n",
       "      <td>6362620.0</td>\n",
       "      <td>1.100702e+06</td>\n",
       "      <td>3.399180e+06</td>\n",
       "      <td>0.0</td>\n",
       "      <td>0.00</td>\n",
       "      <td>132705.665</td>\n",
       "      <td>9.430367e+05</td>\n",
       "      <td>3.560159e+08</td>\n",
       "    </tr>\n",
       "    <tr>\n",
       "      <th>newbalanceDest</th>\n",
       "      <td>6362620.0</td>\n",
       "      <td>1.224996e+06</td>\n",
       "      <td>3.674129e+06</td>\n",
       "      <td>0.0</td>\n",
       "      <td>0.00</td>\n",
       "      <td>214661.440</td>\n",
       "      <td>1.111909e+06</td>\n",
       "      <td>3.561793e+08</td>\n",
       "    </tr>\n",
       "    <tr>\n",
       "      <th>isFraud</th>\n",
       "      <td>6362620.0</td>\n",
       "      <td>1.290820e-03</td>\n",
       "      <td>3.590480e-02</td>\n",
       "      <td>0.0</td>\n",
       "      <td>0.00</td>\n",
       "      <td>0.000</td>\n",
       "      <td>0.000000e+00</td>\n",
       "      <td>1.000000e+00</td>\n",
       "    </tr>\n",
       "    <tr>\n",
       "      <th>isFlaggedFraud</th>\n",
       "      <td>6362620.0</td>\n",
       "      <td>2.514687e-06</td>\n",
       "      <td>1.585775e-03</td>\n",
       "      <td>0.0</td>\n",
       "      <td>0.00</td>\n",
       "      <td>0.000</td>\n",
       "      <td>0.000000e+00</td>\n",
       "      <td>1.000000e+00</td>\n",
       "    </tr>\n",
       "  </tbody>\n",
       "</table>\n",
       "</div>"
      ],
      "text/plain": [
       "                    count          mean           std  min       25%  \\\n",
       "step            6362620.0  2.433972e+02  1.423320e+02  1.0    156.00   \n",
       "amount          6362620.0  1.798619e+05  6.038582e+05  0.0  13389.57   \n",
       "oldbalanceOrg   6362620.0  8.338831e+05  2.888243e+06  0.0      0.00   \n",
       "newbalanceOrig  6362620.0  8.551137e+05  2.924049e+06  0.0      0.00   \n",
       "oldbalanceDest  6362620.0  1.100702e+06  3.399180e+06  0.0      0.00   \n",
       "newbalanceDest  6362620.0  1.224996e+06  3.674129e+06  0.0      0.00   \n",
       "isFraud         6362620.0  1.290820e-03  3.590480e-02  0.0      0.00   \n",
       "isFlaggedFraud  6362620.0  2.514687e-06  1.585775e-03  0.0      0.00   \n",
       "\n",
       "                       50%           75%           max  \n",
       "step               239.000  3.350000e+02  7.430000e+02  \n",
       "amount           74871.940  2.087215e+05  9.244552e+07  \n",
       "oldbalanceOrg    14208.000  1.073152e+05  5.958504e+07  \n",
       "newbalanceOrig       0.000  1.442584e+05  4.958504e+07  \n",
       "oldbalanceDest  132705.665  9.430367e+05  3.560159e+08  \n",
       "newbalanceDest  214661.440  1.111909e+06  3.561793e+08  \n",
       "isFraud              0.000  0.000000e+00  1.000000e+00  \n",
       "isFlaggedFraud       0.000  0.000000e+00  1.000000e+00  "
      ]
     },
     "execution_count": 19,
     "metadata": {},
     "output_type": "execute_result"
    }
   ],
   "source": [
    "df.describe().T"
   ]
  },
  {
   "cell_type": "code",
   "execution_count": 23,
   "id": "3ef1460a-8dd0-4132-8713-dfb73fb28694",
   "metadata": {
    "colab": {
     "base_uri": "https://localhost:8080/"
    },
    "id": "3ef1460a-8dd0-4132-8713-dfb73fb28694",
    "outputId": "db0c64df-b597-4b39-ebf4-35a7a557faa0"
   },
   "outputs": [
    {
     "data": {
      "text/plain": [
       "step              0\n",
       "type              0\n",
       "amount            0\n",
       "nameOrig          0\n",
       "oldbalanceOrg     0\n",
       "newbalanceOrig    0\n",
       "nameDest          0\n",
       "oldbalanceDest    0\n",
       "newbalanceDest    0\n",
       "isFraud           0\n",
       "isFlaggedFraud    0\n",
       "dtype: int64"
      ]
     },
     "execution_count": 23,
     "metadata": {},
     "output_type": "execute_result"
    }
   ],
   "source": [
    "#null values if there*\n",
    "df.isnull().sum()"
   ]
  },
  {
   "cell_type": "markdown",
   "id": "nBUe3CIAxeZ2",
   "metadata": {
    "id": "nBUe3CIAxeZ2"
   },
   "source": [
    "There are no null values in any of the columns of the dataset."
   ]
  },
  {
   "cell_type": "code",
   "execution_count": 25,
   "id": "f3fc70e5-0d17-4197-8f49-c3a279890641",
   "metadata": {
    "colab": {
     "base_uri": "https://localhost:8080/"
    },
    "id": "f3fc70e5-0d17-4197-8f49-c3a279890641",
    "outputId": "e8474a0a-7b3e-47a8-dc9a-f342c300847a"
   },
   "outputs": [
    {
     "name": "stdout",
     "output_type": "stream",
     "text": [
      "Total No. of Non-Fraudulent Cases: 6354407\n",
      "Total No. Fraudulent Cases: 8213\n"
     ]
    }
   ],
   "source": [
    "len_not_fraud = len(df['isFraud'][df.isFraud == 0])\n",
    "len_is_fraud = len(df['isFraud'][df.isFraud == 1])\n",
    "\n",
    "arr = np.array([len_not_fraud, len_is_fraud])\n",
    "labels = ['Not Fraudulent', 'Fraudulent']\n",
    "print(f\"Total No. of Non-Fraudulent Cases: {len_not_fraud}\")\n",
    "print(f\"Total No. Fraudulent Cases: {len_is_fraud}\")"
   ]
  },
  {
   "cell_type": "markdown",
   "id": "i1GM9tpXyVCj",
   "metadata": {
    "id": "i1GM9tpXyVCj"
   },
   "source": [
    "We can see that the number of fraudulent cases in the dataset is really small with only 8213 transactions out of over 6 million transactions is tagged as fraud. Therefore the dataset is highly imbalanced and some workarounds we have to be applied to fix this problem."
   ]
  },
  {
   "cell_type": "code",
   "execution_count": 28,
   "id": "d82570a0-7a85-40c5-a276-d9c377944e80",
   "metadata": {
    "colab": {
     "base_uri": "https://localhost:8080/"
    },
    "id": "d82570a0-7a85-40c5-a276-d9c377944e80",
    "outputId": "e1a9f770-40af-4104-a393-21e4925e9f48"
   },
   "outputs": [
    {
     "data": {
      "text/plain": [
       "count    6.362620e+06\n",
       "mean     1.798619e+05\n",
       "std      6.038582e+05\n",
       "min      0.000000e+00\n",
       "25%      1.338957e+04\n",
       "50%      7.487194e+04\n",
       "75%      2.087215e+05\n",
       "max      9.244552e+07\n",
       "Name: amount, dtype: float64"
      ]
     },
     "execution_count": 28,
     "metadata": {},
     "output_type": "execute_result"
    }
   ],
   "source": [
    "df['amount'].describe()"
   ]
  },
  {
   "cell_type": "code",
   "execution_count": 30,
   "id": "57bb2652-ed2a-407e-acca-0cf17e8a9ef7",
   "metadata": {
    "colab": {
     "base_uri": "https://localhost:8080/"
    },
    "id": "57bb2652-ed2a-407e-acca-0cf17e8a9ef7",
    "outputId": "0b6d344a-0e44-4fe2-872c-e932d23fee72"
   },
   "outputs": [
    {
     "data": {
      "text/plain": [
       "2"
      ]
     },
     "execution_count": 30,
     "metadata": {},
     "output_type": "execute_result"
    }
   ],
   "source": [
    "df.isFraud.nunique()"
   ]
  },
  {
   "cell_type": "code",
   "execution_count": 34,
   "id": "GOvxZwKJy6gP",
   "metadata": {
    "colab": {
     "base_uri": "https://localhost:8080/",
     "height": 818
    },
    "id": "GOvxZwKJy6gP",
    "outputId": "3d7a8613-2395-4033-bd5c-303d11e4095f"
   },
   "outputs": [
    {
     "data": {
      "image/png": "[encoded data removed]",
      "text/plain": [
       "<Figure size 2100x1000 with 2 Axes>"
      ]
     },
     "metadata": {},
     "output_type": "display_data"
    }
   ],
   "source": [
    "fig, ax = plt.subplots(figsize=(21,10))\n",
    "sns.set_context('poster')\n",
    "corr = df.select_dtypes(include='number').corr()\n",
    "sns.heatmap(corr, xticklabels=corr.columns, yticklabels=corr.columns,cmap='gist_rainbow', annot = True)\n",
    "ax.set_title('Collinearity of Feature Attributes')\n",
    "plt.savefig('cormap.png')\n",
    "\n",
    "#plt.pie(arr, labels = labels, explode=[0.3, 0.0], shadow = True)\n",
    "#plt.show()"
   ]
  },
  {
   "cell_type": "code",
   "execution_count": 38,
   "id": "dN7E5X3G1H51",
   "metadata": {
    "cellView": "form",
    "id": "dN7E5X3G1H51"
   },
   "outputs": [],
   "source": [
    "#@title The next 3 cells contain functions for graph and chart plotting\n",
    "# Distribution graphs (histogram/bar graph) of column data\n",
    "def plotPerColumnDistribution(df, nGraphShown, nGraphPerRow):\n",
    "    nunique = df.nunique()\n",
    "    df = df[[col for col in df if nunique[col] > 1 and nunique[col] < 50]] # For displaying purposes, pick columns that have between 1 and 50 unique values\n",
    "    nRow, nCol = df.shape\n",
    "    columnNames = list(df)\n",
    "    nGraphRow = (nCol + nGraphPerRow - 1) / nGraphPerRow\n",
    "    plt.figure(num = None, figsize = (6 * nGraphPerRow, 8 * nGraphRow), dpi = 80, facecolor = 'w', edgecolor = 'k')\n",
    "    for i in range(min(nCol, nGraphShown)):\n",
    "        plt.subplot(nGraphRow, nGraphPerRow, i + 1)\n",
    "        columnDf = df.iloc[:, i]\n",
    "        if (not np.issubdtype(type(columnDf.iloc[0]), np.number)):\n",
    "            valueCounts = columnDf.value_counts()\n",
    "            valueCounts.plot.bar()\n",
    "        else:\n",
    "            columnDf.hist()\n",
    "        plt.ylabel('counts')\n",
    "        plt.xticks(rotation = 90)\n",
    "        plt.title(f'{columnNames[i]} (column {i})')\n",
    "    plt.tight_layout(pad = 1.0, w_pad = 1.0, h_pad = 1.0)\n",
    "    plt.show()"
   ]
  },
  {
   "cell_type": "code",
   "execution_count": 40,
   "id": "Ou_7TxcA2URV",
   "metadata": {
    "cellView": "form",
    "id": "Ou_7TxcA2URV"
   },
   "outputs": [],
   "source": [
    "#@title \n",
    "# Correlation matrix\n",
    "def plotCorrelationMatrix(df, graphWidth):\n",
    "    filename = df.dataframeName\n",
    "    df = df.dropna('columns') # drop columns with NaN\n",
    "    df = df[[col for col in df if df[col].nunique() > 1]] # keep columns where there are more than 1 unique values\n",
    "    if df.shape[1] < 2:\n",
    "        print(f'No correlation plots shown: The number of non-NaN or constant columns ({df.shape[1]}) is less than 2')\n",
    "        return\n",
    "    corr = df.corr()\n",
    "    plt.figure(num=None, figsize=(graphWidth, graphWidth), dpi=80, facecolor='w', edgecolor='k')\n",
    "    corrMat = plt.matshow(corr, fignum = 1)\n",
    "    plt.xticks(range(len(corr.columns)), corr.columns, rotation=90)\n",
    "    plt.yticks(range(len(corr.columns)), corr.columns)\n",
    "    plt.gca().xaxis.tick_bottom()\n",
    "    plt.colorbar(corrMat)\n",
    "    plt.title(f'Correlation Matrix for {filename}', fontsize=15)\n",
    "    plt.show()"
   ]
  },
  {
   "cell_type": "code",
   "execution_count": 42,
   "id": "kakPQ1N12yYR",
   "metadata": {
    "cellView": "form",
    "id": "kakPQ1N12yYR"
   },
   "outputs": [],
   "source": [
    "#@title \n",
    "# Scatter and density plots\n",
    "def plotScatterMatrix(df, plotSize, textSize):\n",
    "    df = df.select_dtypes(include =[np.number]) # keep only numerical columns\n",
    "    # Remove rows and columns that would lead to df being singular\n",
    "    df = df.dropna('columns')\n",
    "    df = df[[col for col in df if df[col].nunique() > 1]] # keep columns where there are more than 1 unique values\n",
    "    columnNames = list(df)\n",
    "    if len(columnNames) > 10: # reduce the number of columns for matrix inversion of kernel density plots\n",
    "        columnNames = columnNames[:10]\n",
    "    df = df[columnNames]\n",
    "    ax = pd.plotting.scatter_matrix(df, alpha=0.75, figsize=[plotSize, plotSize], diagonal='kde')\n",
    "    corrs = df.corr().values\n",
    "    for i, j in zip(*plt.np.triu_indices_from(ax, k = 1)):\n",
    "        ax[i, j].annotate('Corr. coef = %.3f' % corrs[i, j], (0.8, 0.2), xycoords='axes fraction', ha='center', va='center', size=textSize)\n",
    "    plt.suptitle('Scatter and Density Plot')\n",
    "    plt.show()"
   ]
  },
  {
   "cell_type": "code",
   "execution_count": 44,
   "id": "RpvWlFUv3Wy8",
   "metadata": {
    "id": "RpvWlFUv3Wy8"
   },
   "outputs": [],
   "source": [
    "#plotScatterMatrix(df, 20, 10)"
   ]
  },
  {
   "cell_type": "code",
   "execution_count": 46,
   "id": "MINmZkZf6bSU",
   "metadata": {
    "colab": {
     "base_uri": "https://localhost:8080/"
    },
    "id": "MINmZkZf6bSU",
    "outputId": "a69b7f36-5a70-4e17-d1f7-81156d93d0df"
   },
   "outputs": [
    {
     "name": "stdout",
     "output_type": "stream",
     "text": [
      "Percentage of Fraudulent Transanctions in the Dataset: 0.129248881917699%\n"
     ]
    }
   ],
   "source": [
    "# print percentage of questions where target == 1\n",
    "percent = (len(df.loc[df.isFraud==1])) / (len(df.loc[df.isFraud == 0])) * 100\n",
    "print(f\"Percentage of Fraudulent Transanctions in the Dataset: {percent}%\")"
   ]
  },
  {
   "cell_type": "code",
   "execution_count": 48,
   "id": "oEmfEren3xWV",
   "metadata": {
    "colab": {
     "base_uri": "https://localhost:8080/"
    },
    "id": "oEmfEren3xWV",
    "outputId": "76b71709-a364-4945-bf2d-00ec43274ba4"
   },
   "outputs": [
    {
     "data": {
      "text/plain": [
       "5"
      ]
     },
     "execution_count": 48,
     "metadata": {},
     "output_type": "execute_result"
    }
   ],
   "source": [
    "df[\"type\"].nunique()"
   ]
  },
  {
   "cell_type": "code",
   "execution_count": 50,
   "id": "g78oDNV25EER",
   "metadata": {
    "colab": {
     "base_uri": "https://localhost:8080/"
    },
    "id": "g78oDNV25EER",
    "outputId": "7aaa1cff-c985-4fcb-b051-1513d54cdce7"
   },
   "outputs": [
    {
     "data": {
      "text/plain": [
       "array(['PAYMENT', 'TRANSFER', 'CASH_OUT', 'DEBIT', 'CASH_IN'],\n",
       "      dtype=object)"
      ]
     },
     "execution_count": 50,
     "metadata": {},
     "output_type": "execute_result"
    }
   ],
   "source": [
    "df[\"type\"].unique()\n"
   ]
  },
  {
   "cell_type": "markdown",
   "id": "qB1KbvEZ9FKX",
   "metadata": {
    "id": "qB1KbvEZ9FKX"
   },
   "source": [
    "We have 5 unique columns in the \"type\" columns namely:\n",
    "- PAYMENT\n",
    "- TRANSFER \n",
    "- CASH_OUT \n",
    "- DEBIT \n",
    "- CASH_IN\n",
    "\n",
    "These represent the type of transaction carried out in the dataset. We will be creating a new dataframe with these values converted to numerical datatypes."
   ]
  },
  {
   "cell_type": "code",
   "execution_count": 53,
   "id": "9LVPGlXO5QfT",
   "metadata": {
    "colab": {
     "base_uri": "https://localhost:8080/",
     "height": 206
    },
    "id": "9LVPGlXO5QfT",
    "outputId": "182839ef-c82c-4d32-9d39-d1d326fb6d9e"
   },
   "outputs": [
    {
     "data": {
      "text/html": [
       "<div>\n",
       "<style scoped>\n",
       "    .dataframe tbody tr th:only-of-type {\n",
       "        vertical-align: middle;\n",
       "    }\n",
       "\n",
       "    .dataframe tbody tr th {\n",
       "        vertical-align: top;\n",
       "    }\n",
       "\n",
       "    .dataframe thead th {\n",
       "        text-align: right;\n",
       "    }\n",
       "</style>\n",
       "<table border=\"1\" class=\"dataframe\">\n",
       "  <thead>\n",
       "    <tr style=\"text-align: right;\">\n",
       "      <th></th>\n",
       "      <th>step</th>\n",
       "      <th>type</th>\n",
       "      <th>amount</th>\n",
       "      <th>nameOrig</th>\n",
       "      <th>oldbalanceOrg</th>\n",
       "      <th>newbalanceOrig</th>\n",
       "      <th>nameDest</th>\n",
       "      <th>oldbalanceDest</th>\n",
       "      <th>newbalanceDest</th>\n",
       "      <th>isFraud</th>\n",
       "      <th>isFlaggedFraud</th>\n",
       "    </tr>\n",
       "  </thead>\n",
       "  <tbody>\n",
       "    <tr>\n",
       "      <th>0</th>\n",
       "      <td>1</td>\n",
       "      <td>PAYMENT</td>\n",
       "      <td>9839.64</td>\n",
       "      <td>C1231006815</td>\n",
       "      <td>170136.0</td>\n",
       "      <td>160296.36</td>\n",
       "      <td>M1979787155</td>\n",
       "      <td>0.0</td>\n",
       "      <td>0.0</td>\n",
       "      <td>0</td>\n",
       "      <td>0</td>\n",
       "    </tr>\n",
       "    <tr>\n",
       "      <th>1</th>\n",
       "      <td>1</td>\n",
       "      <td>PAYMENT</td>\n",
       "      <td>1864.28</td>\n",
       "      <td>C1666544295</td>\n",
       "      <td>21249.0</td>\n",
       "      <td>19384.72</td>\n",
       "      <td>M2044282225</td>\n",
       "      <td>0.0</td>\n",
       "      <td>0.0</td>\n",
       "      <td>0</td>\n",
       "      <td>0</td>\n",
       "    </tr>\n",
       "    <tr>\n",
       "      <th>2</th>\n",
       "      <td>1</td>\n",
       "      <td>TRANSFER</td>\n",
       "      <td>181.00</td>\n",
       "      <td>C1305486145</td>\n",
       "      <td>181.0</td>\n",
       "      <td>0.00</td>\n",
       "      <td>C553264065</td>\n",
       "      <td>0.0</td>\n",
       "      <td>0.0</td>\n",
       "      <td>1</td>\n",
       "      <td>0</td>\n",
       "    </tr>\n",
       "    <tr>\n",
       "      <th>3</th>\n",
       "      <td>1</td>\n",
       "      <td>CASH_OUT</td>\n",
       "      <td>181.00</td>\n",
       "      <td>C840083671</td>\n",
       "      <td>181.0</td>\n",
       "      <td>0.00</td>\n",
       "      <td>C38997010</td>\n",
       "      <td>21182.0</td>\n",
       "      <td>0.0</td>\n",
       "      <td>1</td>\n",
       "      <td>0</td>\n",
       "    </tr>\n",
       "    <tr>\n",
       "      <th>4</th>\n",
       "      <td>1</td>\n",
       "      <td>PAYMENT</td>\n",
       "      <td>11668.14</td>\n",
       "      <td>C2048537720</td>\n",
       "      <td>41554.0</td>\n",
       "      <td>29885.86</td>\n",
       "      <td>M1230701703</td>\n",
       "      <td>0.0</td>\n",
       "      <td>0.0</td>\n",
       "      <td>0</td>\n",
       "      <td>0</td>\n",
       "    </tr>\n",
       "  </tbody>\n",
       "</table>\n",
       "</div>"
      ],
      "text/plain": [
       "   step      type    amount     nameOrig  oldbalanceOrg  newbalanceOrig  \\\n",
       "0     1   PAYMENT   9839.64  C1231006815       170136.0       160296.36   \n",
       "1     1   PAYMENT   1864.28  C1666544295        21249.0        19384.72   \n",
       "2     1  TRANSFER    181.00  C1305486145          181.0            0.00   \n",
       "3     1  CASH_OUT    181.00   C840083671          181.0            0.00   \n",
       "4     1   PAYMENT  11668.14  C2048537720        41554.0        29885.86   \n",
       "\n",
       "      nameDest  oldbalanceDest  newbalanceDest  isFraud  isFlaggedFraud  \n",
       "0  M1979787155             0.0             0.0        0               0  \n",
       "1  M2044282225             0.0             0.0        0               0  \n",
       "2   C553264065             0.0             0.0        1               0  \n",
       "3    C38997010         21182.0             0.0        1               0  \n",
       "4  M1230701703             0.0             0.0        0               0  "
      ]
     },
     "execution_count": 53,
     "metadata": {},
     "output_type": "execute_result"
    }
   ],
   "source": [
    "df.head()"
   ]
  },
  {
   "cell_type": "markdown",
   "id": "aUu2yTR_CfY2",
   "metadata": {
    "id": "aUu2yTR_CfY2"
   },
   "source": [
    "# Model Building and Evaluation"
   ]
  },
  {
   "cell_type": "markdown",
   "id": "hlJRhbb7H9Zx",
   "metadata": {
    "id": "hlJRhbb7H9Zx"
   },
   "source": [
    "### Feature Engineering\n",
    "The \"type\" column in the dataset contains categorical data namely:\n",
    "- PAYMENT\n",
    "- TRANSFER\n",
    "- CASH_OUT\n",
    "- DEBIT\n",
    "- CASH_IN\n",
    "\n",
    "We will be using label encoding to convert the categorical data to numerical datatype."
   ]
  },
  {
   "cell_type": "code",
   "execution_count": 57,
   "id": "RyUn-nEiMvEF",
   "metadata": {
    "id": "RyUn-nEiMvEF"
   },
   "outputs": [],
   "source": [
    "df.drop(['nameOrig', 'nameDest'], axis=1, inplace=True)"
   ]
  },
  {
   "cell_type": "code",
   "execution_count": 59,
   "id": "MTO56zKV-H0y",
   "metadata": {
    "id": "MTO56zKV-H0y"
   },
   "outputs": [],
   "source": [
    "data = df.copy(deep = True)"
   ]
  },
  {
   "cell_type": "code",
   "execution_count": 61,
   "id": "aU6YiI1V-C3U",
   "metadata": {
    "id": "aU6YiI1V-C3U"
   },
   "outputs": [],
   "source": [
    "# get all categorical columns in the dataframe\n",
    "catCols = [col for col in data.columns if data[col].dtype==\"O\"]\n",
    "\n",
    "from sklearn.preprocessing import LabelEncoder\n",
    "\n",
    "lb_make = LabelEncoder()\n",
    "\n",
    "for item in catCols:\n",
    "    data[item] = lb_make.fit_transform(data[item])\n"
   ]
  },
  {
   "cell_type": "code",
   "execution_count": 63,
   "id": "Kkr_nZyv-aUw",
   "metadata": {
    "colab": {
     "base_uri": "https://localhost:8080/",
     "height": 206
    },
    "id": "Kkr_nZyv-aUw",
    "outputId": "d41718f9-ed23-41e2-e410-0edb3a428856"
   },
   "outputs": [
    {
     "data": {
      "text/html": [
       "<div>\n",
       "<style scoped>\n",
       "    .dataframe tbody tr th:only-of-type {\n",
       "        vertical-align: middle;\n",
       "    }\n",
       "\n",
       "    .dataframe tbody tr th {\n",
       "        vertical-align: top;\n",
       "    }\n",
       "\n",
       "    .dataframe thead th {\n",
       "        text-align: right;\n",
       "    }\n",
       "</style>\n",
       "<table border=\"1\" class=\"dataframe\">\n",
       "  <thead>\n",
       "    <tr style=\"text-align: right;\">\n",
       "      <th></th>\n",
       "      <th>step</th>\n",
       "      <th>type</th>\n",
       "      <th>amount</th>\n",
       "      <th>oldbalanceOrg</th>\n",
       "      <th>newbalanceOrig</th>\n",
       "      <th>oldbalanceDest</th>\n",
       "      <th>newbalanceDest</th>\n",
       "      <th>isFraud</th>\n",
       "      <th>isFlaggedFraud</th>\n",
       "    </tr>\n",
       "  </thead>\n",
       "  <tbody>\n",
       "    <tr>\n",
       "      <th>0</th>\n",
       "      <td>1</td>\n",
       "      <td>3</td>\n",
       "      <td>9839.64</td>\n",
       "      <td>170136.0</td>\n",
       "      <td>160296.36</td>\n",
       "      <td>0.0</td>\n",
       "      <td>0.0</td>\n",
       "      <td>0</td>\n",
       "      <td>0</td>\n",
       "    </tr>\n",
       "    <tr>\n",
       "      <th>1</th>\n",
       "      <td>1</td>\n",
       "      <td>3</td>\n",
       "      <td>1864.28</td>\n",
       "      <td>21249.0</td>\n",
       "      <td>19384.72</td>\n",
       "      <td>0.0</td>\n",
       "      <td>0.0</td>\n",
       "      <td>0</td>\n",
       "      <td>0</td>\n",
       "    </tr>\n",
       "    <tr>\n",
       "      <th>2</th>\n",
       "      <td>1</td>\n",
       "      <td>4</td>\n",
       "      <td>181.00</td>\n",
       "      <td>181.0</td>\n",
       "      <td>0.00</td>\n",
       "      <td>0.0</td>\n",
       "      <td>0.0</td>\n",
       "      <td>1</td>\n",
       "      <td>0</td>\n",
       "    </tr>\n",
       "    <tr>\n",
       "      <th>3</th>\n",
       "      <td>1</td>\n",
       "      <td>1</td>\n",
       "      <td>181.00</td>\n",
       "      <td>181.0</td>\n",
       "      <td>0.00</td>\n",
       "      <td>21182.0</td>\n",
       "      <td>0.0</td>\n",
       "      <td>1</td>\n",
       "      <td>0</td>\n",
       "    </tr>\n",
       "    <tr>\n",
       "      <th>4</th>\n",
       "      <td>1</td>\n",
       "      <td>3</td>\n",
       "      <td>11668.14</td>\n",
       "      <td>41554.0</td>\n",
       "      <td>29885.86</td>\n",
       "      <td>0.0</td>\n",
       "      <td>0.0</td>\n",
       "      <td>0</td>\n",
       "      <td>0</td>\n",
       "    </tr>\n",
       "  </tbody>\n",
       "</table>\n",
       "</div>"
      ],
      "text/plain": [
       "   step  type    amount  oldbalanceOrg  newbalanceOrig  oldbalanceDest  \\\n",
       "0     1     3   9839.64       170136.0       160296.36             0.0   \n",
       "1     1     3   1864.28        21249.0        19384.72             0.0   \n",
       "2     1     4    181.00          181.0            0.00             0.0   \n",
       "3     1     1    181.00          181.0            0.00         21182.0   \n",
       "4     1     3  11668.14        41554.0        29885.86             0.0   \n",
       "\n",
       "   newbalanceDest  isFraud  isFlaggedFraud  \n",
       "0             0.0        0               0  \n",
       "1             0.0        0               0  \n",
       "2             0.0        1               0  \n",
       "3             0.0        1               0  \n",
       "4             0.0        0               0  "
      ]
     },
     "execution_count": 63,
     "metadata": {},
     "output_type": "execute_result"
    }
   ],
   "source": [
    "data.head()"
   ]
  },
  {
   "cell_type": "markdown",
   "id": "mLxUuJBk-4e5",
   "metadata": {
    "id": "mLxUuJBk-4e5"
   },
   "source": [
    "The type column has now been converted from a categorical datatype to numerical datatype using label encoding.\n",
    "\n",
    "- CASH_IN = 0\n",
    "- CASH_OUT = 1\n",
    "- DEBIT = 2\n",
    "- PAYMENT = 3\n",
    "- TRANSFER = 4"
   ]
  },
  {
   "cell_type": "code",
   "execution_count": 67,
   "id": "WxFC69ak7KCu",
   "metadata": {
    "id": "WxFC69ak7KCu"
   },
   "outputs": [],
   "source": [
    "# The function below will be used to evaluate different metrics of the algorithms used here.\n",
    "from sklearn.metrics import confusion_matrix, accuracy_score, precision_score, recall_score, f1_score\n",
    "\n",
    "def evaluate_model(y_test, y_pred):\n",
    "    print(\"Accuracy Score: \", accuracy_score(y_test, y_pred))\n",
    "    print(\"Precision Score: \", precision_score(y_test, y_pred))\n",
    "    print(\"Recall Score: \", recall_score(y_test, y_pred))\n",
    "    print(\"F1 Score: \", f1_score(y_test, y_pred))\n",
    "    print(\"Confusion Matrix: \", confusion_matrix(y_test, y_pred))\n",
    "    \n",
    "\n",
    "    df = {'y_Actual': y_test, 'y_Predicted': y_pred}\n",
    "\n",
    "    df1 = pd.DataFrame(df, columns = ['y_Actual','y_Predicted'])\n",
    "\n",
    "    clf_confusion_matrix = pd.crosstab(df['y_Predicted'], df['y_Actual'], rownames = ['Predicted'], colnames=['Actual'])\n",
    "\n",
    "    sns.heatmap(clf_confusion_matrix, annot=True)\n",
    "    "
   ]
  },
  {
   "cell_type": "code",
   "execution_count": 69,
   "id": "THSi6Hk067Qs",
   "metadata": {
    "id": "THSi6Hk067Qs"
   },
   "outputs": [],
   "source": [
    "from sklearn.model_selection import train_test_split\n",
    "from sklearn.linear_model import LogisticRegression\n",
    "from sklearn.dummy import DummyClassifier\n",
    "\n",
    "X = data.drop('isFraud', axis=1)\n",
    "y = data.isFraud\n",
    "\n",
    "\n",
    "# setting up testing and training sets\n",
    "X_train, X_test, y_train, y_test = train_test_split(X, y, test_size=0.25, random_state=27)"
   ]
  },
  {
   "cell_type": "code",
   "execution_count": 71,
   "id": "GGJN-t0-7Hbr",
   "metadata": {
    "colab": {
     "base_uri": "https://localhost:8080/",
     "height": 412
    },
    "id": "GGJN-t0-7Hbr",
    "outputId": "917ca394-6f1d-4a6f-e0d3-0b99f54edd8d"
   },
   "outputs": [
    {
     "name": "stdout",
     "output_type": "stream",
     "text": [
      "Unique predicted labels:  [0]\n",
      "Accuracy Score:  0.9986904765646856\n"
     ]
    },
    {
     "name": "stderr",
     "output_type": "stream",
     "text": [
      "/opt/anaconda3/lib/python3.11/site-packages/sklearn/metrics/_classification.py:1706: UndefinedMetricWarning: Precision is ill-defined and being set to 0.0 due to no predicted samples. Use `zero_division` parameter to control this behavior.\n",
      "  _warn_prf(average, modifier, f\"{metric.capitalize()} is\", result.shape[0])\n"
     ]
    },
    {
     "name": "stdout",
     "output_type": "stream",
     "text": [
      "Precision Score:  0.0\n",
      "Recall Score:  0.0\n",
      "F1 Score:  0.0\n",
      "Confusion Matrix:  [[1588572       0]\n",
      " [   2083       0]]\n"
     ]
    },
    {
     "data": {
      "image/png": "[encoded data removed]",
      "text/plain": [
       "<Figure size 640x480 with 2 Axes>"
      ]
     },
     "metadata": {},
     "output_type": "display_data"
    }
   ],
   "source": [
    "# DummyClassifier to predict only target 0\n",
    "dummy = DummyClassifier(strategy='most_frequent').fit(X_train, y_train)\n",
    "dummy_pred = dummy.predict(X_test)\n",
    "\n",
    "# checking unique labels\n",
    "print('Unique predicted labels: ', (np.unique(dummy_pred)))\n",
    "\n",
    "# checking accuracy\n",
    "evaluate_model(y_test, dummy_pred)"
   ]
  },
  {
   "cell_type": "markdown",
   "id": "jMl-v57E_iVA",
   "metadata": {
    "id": "jMl-v57E_iVA"
   },
   "source": [
    "As we can see the Dummy classifier accurately predicts non-fraudulent transactions with an accuracy of 99.8% but that is not our focus. We need to be able to accurately predict fraudulent transactions."
   ]
  },
  {
   "cell_type": "markdown",
   "id": "t1LNxBjfCX0k",
   "metadata": {
    "id": "t1LNxBjfCX0k"
   },
   "source": [
    "## Logistic Regression\n",
    "Logistic regression estimates the probability of an event occurring, such as voted or didn't vote, based on a given dataset of independent variables. Since the outcome is a probability, the dependent variable is bounded between 0 and 1."
   ]
  },
  {
   "cell_type": "code",
   "execution_count": 76,
   "id": "izBCxXEw__7n",
   "metadata": {
    "id": "izBCxXEw__7n"
   },
   "outputs": [
    {
     "name": "stderr",
     "output_type": "stream",
     "text": [
      "/opt/anaconda3/lib/python3.11/site-packages/sklearn/linear_model/_logistic.py:470: ConvergenceWarning: lbfgs failed to converge after 100 iteration(s) (status=1):\n",
      "STOP: TOTAL NO. of ITERATIONS REACHED LIMIT\n",
      "\n",
      "Increase the number of iterations to improve the convergence (max_iter=100).\n",
      "You might also want to scale the data as shown in:\n",
      "    https://scikit-learn.org/stable/modules/preprocessing.html\n",
      "Please also refer to the documentation for alternative solver options:\n",
      "    https://scikit-learn.org/stable/modules/linear_model.html#logistic-regression\n",
      "  n_iter_i = _check_optimize_result(\n"
     ]
    }
   ],
   "source": [
    "# Modeling the data as is\n",
    "# Train model\n",
    "lr = LogisticRegression()\n",
    "model1 = lr.fit(X_train, y_train)\n",
    " \n",
    "# Predict on training set\n",
    "lr_pred = model1.predict(X_test)"
   ]
  },
  {
   "cell_type": "code",
   "execution_count": 77,
   "id": "lW2Ze6z-BX3t",
   "metadata": {
    "colab": {
     "base_uri": "https://localhost:8080/",
     "height": 394
    },
    "id": "lW2Ze6z-BX3t",
    "outputId": "02427d7a-4c65-45e1-904f-2818a41f4139"
   },
   "outputs": [
    {
     "name": "stdout",
     "output_type": "stream",
     "text": [
      "Accuracy Score:  0.9984320924399068\n",
      "Precision Score:  0.4095908490981082\n",
      "Recall Score:  0.4469515122419587\n",
      "F1 Score:  0.42745638200183655\n",
      "Confusion Matrix:  [[1587230    1342]\n",
      " [   1152     931]]\n"
     ]
    },
    {
     "data": {
      "image/png": "[encoded data removed]",
      "text/plain": [
       "<Figure size 640x480 with 2 Axes>"
      ]
     },
     "metadata": {},
     "output_type": "display_data"
    }
   ],
   "source": [
    "evaluate_model(y_test, lr_pred)"
   ]
  },
  {
   "cell_type": "code",
   "execution_count": 80,
   "id": "02m7h9SeCKNR",
   "metadata": {
    "colab": {
     "base_uri": "https://localhost:8080/"
    },
    "id": "02m7h9SeCKNR",
    "outputId": "9005e900-688b-42f7-d87a-6153ee9bb6b5"
   },
   "outputs": [
    {
     "data": {
      "text/plain": [
       "0\n",
       "0    1588382\n",
       "1       2273\n",
       "Name: count, dtype: int64"
      ]
     },
     "execution_count": 80,
     "metadata": {},
     "output_type": "execute_result"
    }
   ],
   "source": [
    "# Checking unique values\n",
    "predictions = pd.DataFrame(lr_pred)\n",
    "predictions[0].value_counts()"
   ]
  },
  {
   "cell_type": "code",
   "execution_count": 82,
   "id": "LgEtE8oXBX69",
   "metadata": {
    "colab": {
     "base_uri": "https://localhost:8080/",
     "height": 112
    },
    "id": "LgEtE8oXBX69",
    "outputId": "491d3497-0fe8-4bdf-d7ae-7151b56bae4d"
   },
   "outputs": [
    {
     "data": {
      "text/html": [
       "<div>\n",
       "<style scoped>\n",
       "    .dataframe tbody tr th:only-of-type {\n",
       "        vertical-align: middle;\n",
       "    }\n",
       "\n",
       "    .dataframe tbody tr th {\n",
       "        vertical-align: top;\n",
       "    }\n",
       "\n",
       "    .dataframe thead th {\n",
       "        text-align: right;\n",
       "    }\n",
       "</style>\n",
       "<table border=\"1\" class=\"dataframe\">\n",
       "  <thead>\n",
       "    <tr style=\"text-align: right;\">\n",
       "      <th></th>\n",
       "      <th>0</th>\n",
       "      <th>1</th>\n",
       "    </tr>\n",
       "  </thead>\n",
       "  <tbody>\n",
       "    <tr>\n",
       "      <th>0</th>\n",
       "      <td>1587230</td>\n",
       "      <td>1342</td>\n",
       "    </tr>\n",
       "    <tr>\n",
       "      <th>1</th>\n",
       "      <td>1152</td>\n",
       "      <td>931</td>\n",
       "    </tr>\n",
       "  </tbody>\n",
       "</table>\n",
       "</div>"
      ],
      "text/plain": [
       "         0     1\n",
       "0  1587230  1342\n",
       "1     1152   931"
      ]
     },
     "execution_count": 82,
     "metadata": {},
     "output_type": "execute_result"
    }
   ],
   "source": [
    "pd.DataFrame(confusion_matrix(y_test, lr_pred))"
   ]
  },
  {
   "cell_type": "markdown",
   "id": "dGeAtDv1BxpR",
   "metadata": {
    "id": "dGeAtDv1BxpR"
   },
   "source": [
    "The Logistic Regression Model performs quite well but the recall score is still very low. More work needs to be done with the dataset."
   ]
  },
  {
   "cell_type": "markdown",
   "id": "Rnp_vFh8CnM5",
   "metadata": {
    "id": "Rnp_vFh8CnM5"
   },
   "source": [
    "## Random Forest Classifier\n",
    "\n",
    "A random forest is a meta estimator that fits a number of decision tree classifiers on various sub-samples of the dataset and uses averaging to improve the predictive accuracy and control over-fitting."
   ]
  },
  {
   "cell_type": "code",
   "execution_count": 86,
   "id": "4EUEsNX0BYBq",
   "metadata": {
    "colab": {
     "base_uri": "https://localhost:8080/",
     "height": 394
    },
    "id": "4EUEsNX0BYBq",
    "outputId": "95d35beb-4f41-4c4c-d6ea-23cea6994862"
   },
   "outputs": [
    {
     "name": "stdout",
     "output_type": "stream",
     "text": [
      "Accuracy Score:  0.9996969801748337\n",
      "Precision Score:  0.9802039592081584\n",
      "Recall Score:  0.7844455112818051\n",
      "F1 Score:  0.8714666666666666\n",
      "Confusion Matrix:  [[1588539      33]\n",
      " [    449    1634]]\n"
     ]
    },
    {
     "data": {
      "image/png": "[encoded data removed]",
      "text/plain": [
       "<Figure size 640x480 with 2 Axes>"
      ]
     },
     "metadata": {},
     "output_type": "display_data"
    }
   ],
   "source": [
    "from sklearn.ensemble import RandomForestClassifier\n",
    "rfc = RandomForestClassifier(n_estimators=10).fit(X_train, y_train)\n",
    "\n",
    "# predict on test set\n",
    "rfc_pred = rfc.predict(X_test)\n",
    "\n",
    "evaluate_model(y_test, rfc_pred)"
   ]
  },
  {
   "cell_type": "code",
   "execution_count": 88,
   "id": "qMh167K9BYE7",
   "metadata": {
    "colab": {
     "base_uri": "https://localhost:8080/"
    },
    "id": "qMh167K9BYE7",
    "outputId": "e8979d63-78c8-427b-c54d-cf9f2f68c34b"
   },
   "outputs": [
    {
     "data": {
      "text/plain": [
       "0\n",
       "0    1588988\n",
       "1       1667\n",
       "Name: count, dtype: int64"
      ]
     },
     "execution_count": 88,
     "metadata": {},
     "output_type": "execute_result"
    }
   ],
   "source": [
    "# Checking unique values\n",
    "predictions = pd.DataFrame(rfc_pred)\n",
    "predictions[0].value_counts()"
   ]
  },
  {
   "cell_type": "code",
   "execution_count": 90,
   "id": "LkXK2IG1BYK1",
   "metadata": {
    "colab": {
     "base_uri": "https://localhost:8080/",
     "height": 112
    },
    "id": "LkXK2IG1BYK1",
    "outputId": "79495319-c524-47d9-e815-cae3146b0ed5"
   },
   "outputs": [
    {
     "data": {
      "text/html": [
       "<div>\n",
       "<style scoped>\n",
       "    .dataframe tbody tr th:only-of-type {\n",
       "        vertical-align: middle;\n",
       "    }\n",
       "\n",
       "    .dataframe tbody tr th {\n",
       "        vertical-align: top;\n",
       "    }\n",
       "\n",
       "    .dataframe thead th {\n",
       "        text-align: right;\n",
       "    }\n",
       "</style>\n",
       "<table border=\"1\" class=\"dataframe\">\n",
       "  <thead>\n",
       "    <tr style=\"text-align: right;\">\n",
       "      <th></th>\n",
       "      <th>0</th>\n",
       "      <th>1</th>\n",
       "    </tr>\n",
       "  </thead>\n",
       "  <tbody>\n",
       "    <tr>\n",
       "      <th>0</th>\n",
       "      <td>1588539</td>\n",
       "      <td>33</td>\n",
       "    </tr>\n",
       "    <tr>\n",
       "      <th>1</th>\n",
       "      <td>449</td>\n",
       "      <td>1634</td>\n",
       "    </tr>\n",
       "  </tbody>\n",
       "</table>\n",
       "</div>"
      ],
      "text/plain": [
       "         0     1\n",
       "0  1588539    33\n",
       "1      449  1634"
      ]
     },
     "execution_count": 90,
     "metadata": {},
     "output_type": "execute_result"
    }
   ],
   "source": [
    "pd.DataFrame(confusion_matrix(y_test, rfc_pred))"
   ]
  },
  {
   "cell_type": "markdown",
   "id": "2cpFQMYzEdg6",
   "metadata": {
    "id": "2cpFQMYzEdg6"
   },
   "source": [
    "We can see that the Random Forest had the best scores so far across different metrics with a recall score of 77% and an F1 score of 86%. The next sections will look at the extreme gradient boosting classifier and gradient boosted tree classifier."
   ]
  },
  {
   "cell_type": "markdown",
   "id": "0G29QvuuD-Rv",
   "metadata": {
    "id": "0G29QvuuD-Rv"
   },
   "source": [
    "## XGBoost\n",
    "XGBoost is an optimized distributed gradient boosting library designed to be highly efficient, flexible and portable. It implements Machine Learning algorithms under the Gradient Boosting framework. It provides a parallel tree boosting to solve many data science problems in a fast and accurate way.\n",
    "\n",
    "Unlike accuracy, LogLoss is robust in the presence of imbalanced classes. It takes into account the certainty of the prediction. That is the evaluation metric that will be used here."
   ]
  },
  {
   "cell_type": "code",
   "execution_count": 100,
   "id": "d5a17485-cf27-48dd-a0e5-575637a12510",
   "metadata": {
    "scrolled": true
   },
   "outputs": [
    {
     "name": "stdout",
     "output_type": "stream",
     "text": [
      "[0]\ttrain-logloss:0.00941\teval-logloss:0.00962\n",
      "[1]\ttrain-logloss:0.00886\teval-logloss:0.00908\n",
      "[2]\ttrain-logloss:0.00548\teval-logloss:0.00561\n",
      "[3]\ttrain-logloss:0.00557\teval-logloss:0.00569\n",
      "[4]\ttrain-logloss:0.00459\teval-logloss:0.00471\n",
      "[5]\ttrain-logloss:0.00424\teval-logloss:0.00436\n",
      "[6]\ttrain-logloss:0.00398\teval-logloss:0.00411\n",
      "[7]\ttrain-logloss:0.00376\teval-logloss:0.00389\n",
      "[8]\ttrain-logloss:0.00350\teval-logloss:0.00364\n",
      "[9]\ttrain-logloss:0.00336\teval-logloss:0.00350\n",
      "[10]\ttrain-logloss:0.00323\teval-logloss:0.00338\n",
      "[11]\ttrain-logloss:0.00311\teval-logloss:0.00326\n",
      "[12]\ttrain-logloss:0.00302\teval-logloss:0.00317\n",
      "[13]\ttrain-logloss:0.00293\teval-logloss:0.00309\n",
      "[14]\ttrain-logloss:0.00287\teval-logloss:0.00303\n",
      "[15]\ttrain-logloss:0.00279\teval-logloss:0.00295\n",
      "[16]\ttrain-logloss:0.00273\teval-logloss:0.00288\n",
      "[17]\ttrain-logloss:0.00268\teval-logloss:0.00283\n",
      "[18]\ttrain-logloss:0.00263\teval-logloss:0.00278\n",
      "[19]\ttrain-logloss:0.00258\teval-logloss:0.00273\n",
      "[20]\ttrain-logloss:0.00254\teval-logloss:0.00269\n",
      "[21]\ttrain-logloss:0.00250\teval-logloss:0.00266\n",
      "[22]\ttrain-logloss:0.00246\teval-logloss:0.00262\n",
      "[23]\ttrain-logloss:0.00243\teval-logloss:0.00259\n",
      "[24]\ttrain-logloss:0.00233\teval-logloss:0.00249\n",
      "[25]\ttrain-logloss:0.00230\teval-logloss:0.00246\n",
      "[26]\ttrain-logloss:0.00228\teval-logloss:0.00244\n",
      "[27]\ttrain-logloss:0.00226\teval-logloss:0.00241\n",
      "[28]\ttrain-logloss:0.00224\teval-logloss:0.00237\n",
      "[29]\ttrain-logloss:0.00223\teval-logloss:0.00236\n",
      "[30]\ttrain-logloss:0.00222\teval-logloss:0.00235\n",
      "[31]\ttrain-logloss:0.00220\teval-logloss:0.00232\n",
      "[32]\ttrain-logloss:0.00213\teval-logloss:0.00227\n",
      "[33]\ttrain-logloss:0.00210\teval-logloss:0.00222\n",
      "[34]\ttrain-logloss:0.00207\teval-logloss:0.00218\n",
      "[35]\ttrain-logloss:0.00202\teval-logloss:0.00214\n",
      "[36]\ttrain-logloss:0.00199\teval-logloss:0.00210\n",
      "[37]\ttrain-logloss:0.00196\teval-logloss:0.00208\n",
      "[38]\ttrain-logloss:0.00194\teval-logloss:0.00205\n",
      "[39]\ttrain-logloss:0.00193\teval-logloss:0.00203\n",
      "[40]\ttrain-logloss:0.00191\teval-logloss:0.00201\n",
      "[41]\ttrain-logloss:0.00189\teval-logloss:0.00199\n",
      "[42]\ttrain-logloss:0.00187\teval-logloss:0.00197\n",
      "[43]\ttrain-logloss:0.00186\teval-logloss:0.00196\n",
      "[44]\ttrain-logloss:0.00180\teval-logloss:0.00191\n",
      "[45]\ttrain-logloss:0.00179\teval-logloss:0.00190\n",
      "[46]\ttrain-logloss:0.00178\teval-logloss:0.00189\n",
      "[47]\ttrain-logloss:0.00174\teval-logloss:0.00185\n",
      "[48]\ttrain-logloss:0.00172\teval-logloss:0.00183\n",
      "[49]\ttrain-logloss:0.00170\teval-logloss:0.00181\n",
      "[50]\ttrain-logloss:0.00169\teval-logloss:0.00180\n",
      "[51]\ttrain-logloss:0.00166\teval-logloss:0.00178\n",
      "[52]\ttrain-logloss:0.00165\teval-logloss:0.00177\n",
      "[53]\ttrain-logloss:0.00163\teval-logloss:0.00175\n",
      "[54]\ttrain-logloss:0.00162\teval-logloss:0.00174\n",
      "[55]\ttrain-logloss:0.00160\teval-logloss:0.00172\n",
      "[56]\ttrain-logloss:0.00160\teval-logloss:0.00171\n",
      "[57]\ttrain-logloss:0.00157\teval-logloss:0.00168\n",
      "[58]\ttrain-logloss:0.00157\teval-logloss:0.00168\n",
      "[59]\ttrain-logloss:0.00154\teval-logloss:0.00166\n",
      "[60]\ttrain-logloss:0.00153\teval-logloss:0.00165\n",
      "[61]\ttrain-logloss:0.00151\teval-logloss:0.00164\n",
      "[62]\ttrain-logloss:0.00150\teval-logloss:0.00162\n",
      "[63]\ttrain-logloss:0.00148\teval-logloss:0.00161\n",
      "[64]\ttrain-logloss:0.00147\teval-logloss:0.00160\n",
      "[65]\ttrain-logloss:0.00145\teval-logloss:0.00159\n",
      "[66]\ttrain-logloss:0.00144\teval-logloss:0.00158\n",
      "[67]\ttrain-logloss:0.00142\teval-logloss:0.00155\n",
      "[68]\ttrain-logloss:0.00141\teval-logloss:0.00152\n",
      "[69]\ttrain-logloss:0.00139\teval-logloss:0.00150\n",
      "[70]\ttrain-logloss:0.00138\teval-logloss:0.00149\n",
      "[71]\ttrain-logloss:0.00138\teval-logloss:0.00148\n",
      "[72]\ttrain-logloss:0.00136\teval-logloss:0.00147\n",
      "[73]\ttrain-logloss:0.00134\teval-logloss:0.00146\n",
      "[74]\ttrain-logloss:0.00134\teval-logloss:0.00145\n",
      "[75]\ttrain-logloss:0.00133\teval-logloss:0.00144\n",
      "[76]\ttrain-logloss:0.00132\teval-logloss:0.00144\n",
      "[77]\ttrain-logloss:0.00131\teval-logloss:0.00143\n",
      "[78]\ttrain-logloss:0.00130\teval-logloss:0.00142\n",
      "[79]\ttrain-logloss:0.00128\teval-logloss:0.00140\n",
      "[80]\ttrain-logloss:0.00128\teval-logloss:0.00140\n",
      "[81]\ttrain-logloss:0.00127\teval-logloss:0.00139\n",
      "[82]\ttrain-logloss:0.00126\teval-logloss:0.00138\n",
      "[83]\ttrain-logloss:0.00125\teval-logloss:0.00138\n",
      "[84]\ttrain-logloss:0.00124\teval-logloss:0.00137\n",
      "[85]\ttrain-logloss:0.00124\teval-logloss:0.00137\n",
      "[86]\ttrain-logloss:0.00123\teval-logloss:0.00136\n",
      "[87]\ttrain-logloss:0.00122\teval-logloss:0.00135\n",
      "[88]\ttrain-logloss:0.00122\teval-logloss:0.00135\n",
      "[89]\ttrain-logloss:0.00120\teval-logloss:0.00134\n",
      "[90]\ttrain-logloss:0.00119\teval-logloss:0.00134\n",
      "[91]\ttrain-logloss:0.00118\teval-logloss:0.00133\n",
      "[92]\ttrain-logloss:0.00118\teval-logloss:0.00131\n",
      "[93]\ttrain-logloss:0.00117\teval-logloss:0.00130\n",
      "[94]\ttrain-logloss:0.00116\teval-logloss:0.00130\n",
      "[95]\ttrain-logloss:0.00116\teval-logloss:0.00130\n",
      "[96]\ttrain-logloss:0.00115\teval-logloss:0.00129\n",
      "[97]\ttrain-logloss:0.00115\teval-logloss:0.00129\n",
      "[98]\ttrain-logloss:0.00115\teval-logloss:0.00128\n",
      "[99]\ttrain-logloss:0.00114\teval-logloss:0.00128\n",
      "[100]\ttrain-logloss:0.00113\teval-logloss:0.00127\n",
      "[101]\ttrain-logloss:0.00113\teval-logloss:0.00126\n",
      "[102]\ttrain-logloss:0.00112\teval-logloss:0.00126\n",
      "[103]\ttrain-logloss:0.00112\teval-logloss:0.00126\n",
      "[104]\ttrain-logloss:0.00112\teval-logloss:0.00125\n",
      "[105]\ttrain-logloss:0.00111\teval-logloss:0.00125\n",
      "[106]\ttrain-logloss:0.00110\teval-logloss:0.00124\n",
      "[107]\ttrain-logloss:0.00110\teval-logloss:0.00124\n",
      "[108]\ttrain-logloss:0.00110\teval-logloss:0.00123\n",
      "[109]\ttrain-logloss:0.00109\teval-logloss:0.00123\n",
      "[110]\ttrain-logloss:0.00108\teval-logloss:0.00122\n",
      "[111]\ttrain-logloss:0.00108\teval-logloss:0.00122\n",
      "[112]\ttrain-logloss:0.00108\teval-logloss:0.00122\n",
      "[113]\ttrain-logloss:0.00108\teval-logloss:0.00121\n",
      "[114]\ttrain-logloss:0.00107\teval-logloss:0.00121\n",
      "[115]\ttrain-logloss:0.00107\teval-logloss:0.00121\n",
      "[116]\ttrain-logloss:0.00107\teval-logloss:0.00121\n",
      "[117]\ttrain-logloss:0.00107\teval-logloss:0.00121\n",
      "[118]\ttrain-logloss:0.00107\teval-logloss:0.00121\n",
      "[119]\ttrain-logloss:0.00106\teval-logloss:0.00120\n",
      "[120]\ttrain-logloss:0.00105\teval-logloss:0.00119\n",
      "[121]\ttrain-logloss:0.00105\teval-logloss:0.00119\n",
      "[122]\ttrain-logloss:0.00105\teval-logloss:0.00119\n",
      "[123]\ttrain-logloss:0.00104\teval-logloss:0.00118\n",
      "[124]\ttrain-logloss:0.00103\teval-logloss:0.00118\n",
      "[125]\ttrain-logloss:0.00103\teval-logloss:0.00118\n",
      "[126]\ttrain-logloss:0.00103\teval-logloss:0.00117\n",
      "[127]\ttrain-logloss:0.00103\teval-logloss:0.00117\n",
      "[128]\ttrain-logloss:0.00102\teval-logloss:0.00117\n",
      "[129]\ttrain-logloss:0.00102\teval-logloss:0.00116\n",
      "[130]\ttrain-logloss:0.00101\teval-logloss:0.00116\n",
      "[131]\ttrain-logloss:0.00101\teval-logloss:0.00116\n",
      "[132]\ttrain-logloss:0.00100\teval-logloss:0.00115\n",
      "[133]\ttrain-logloss:0.00100\teval-logloss:0.00115\n",
      "[134]\ttrain-logloss:0.00100\teval-logloss:0.00115\n",
      "[135]\ttrain-logloss:0.00100\teval-logloss:0.00114\n",
      "[136]\ttrain-logloss:0.00099\teval-logloss:0.00114\n",
      "[137]\ttrain-logloss:0.00099\teval-logloss:0.00114\n",
      "[138]\ttrain-logloss:0.00098\teval-logloss:0.00113\n",
      "[139]\ttrain-logloss:0.00098\teval-logloss:0.00113\n",
      "[140]\ttrain-logloss:0.00098\teval-logloss:0.00113\n",
      "[141]\ttrain-logloss:0.00097\teval-logloss:0.00112\n",
      "[142]\ttrain-logloss:0.00097\teval-logloss:0.00112\n",
      "[143]\ttrain-logloss:0.00097\teval-logloss:0.00112\n",
      "[144]\ttrain-logloss:0.00097\teval-logloss:0.00112\n",
      "[145]\ttrain-logloss:0.00097\teval-logloss:0.00112\n",
      "[146]\ttrain-logloss:0.00096\teval-logloss:0.00111\n",
      "[147]\ttrain-logloss:0.00096\teval-logloss:0.00111\n",
      "[148]\ttrain-logloss:0.00096\teval-logloss:0.00111\n",
      "[149]\ttrain-logloss:0.00096\teval-logloss:0.00111\n",
      "[150]\ttrain-logloss:0.00096\teval-logloss:0.00111\n",
      "[151]\ttrain-logloss:0.00095\teval-logloss:0.00111\n",
      "[152]\ttrain-logloss:0.00095\teval-logloss:0.00111\n",
      "[153]\ttrain-logloss:0.00095\teval-logloss:0.00110\n",
      "[154]\ttrain-logloss:0.00094\teval-logloss:0.00110\n",
      "[155]\ttrain-logloss:0.00094\teval-logloss:0.00110\n",
      "[156]\ttrain-logloss:0.00094\teval-logloss:0.00110\n",
      "[157]\ttrain-logloss:0.00093\teval-logloss:0.00109\n",
      "[158]\ttrain-logloss:0.00093\teval-logloss:0.00109\n",
      "[159]\ttrain-logloss:0.00093\teval-logloss:0.00109\n",
      "[160]\ttrain-logloss:0.00092\teval-logloss:0.00108\n",
      "[161]\ttrain-logloss:0.00092\teval-logloss:0.00108\n",
      "[162]\ttrain-logloss:0.00092\teval-logloss:0.00108\n",
      "[163]\ttrain-logloss:0.00092\teval-logloss:0.00108\n",
      "[164]\ttrain-logloss:0.00092\teval-logloss:0.00108\n",
      "[165]\ttrain-logloss:0.00091\teval-logloss:0.00108\n",
      "[166]\ttrain-logloss:0.00091\teval-logloss:0.00108\n",
      "[167]\ttrain-logloss:0.00091\teval-logloss:0.00107\n",
      "[168]\ttrain-logloss:0.00091\teval-logloss:0.00107\n",
      "[169]\ttrain-logloss:0.00091\teval-logloss:0.00107\n",
      "[170]\ttrain-logloss:0.00091\teval-logloss:0.00107\n",
      "[171]\ttrain-logloss:0.00090\teval-logloss:0.00107\n",
      "[172]\ttrain-logloss:0.00090\teval-logloss:0.00107\n",
      "[173]\ttrain-logloss:0.00090\teval-logloss:0.00106\n",
      "[174]\ttrain-logloss:0.00090\teval-logloss:0.00106\n",
      "[175]\ttrain-logloss:0.00090\teval-logloss:0.00106\n",
      "[176]\ttrain-logloss:0.00090\teval-logloss:0.00106\n",
      "[177]\ttrain-logloss:0.00090\teval-logloss:0.00106\n",
      "[178]\ttrain-logloss:0.00090\teval-logloss:0.00106\n",
      "[179]\ttrain-logloss:0.00089\teval-logloss:0.00106\n",
      "[180]\ttrain-logloss:0.00089\teval-logloss:0.00105\n",
      "[181]\ttrain-logloss:0.00089\teval-logloss:0.00105\n",
      "[182]\ttrain-logloss:0.00088\teval-logloss:0.00105\n",
      "[183]\ttrain-logloss:0.00088\teval-logloss:0.00105\n",
      "[184]\ttrain-logloss:0.00088\teval-logloss:0.00105\n",
      "[185]\ttrain-logloss:0.00088\teval-logloss:0.00105\n",
      "[186]\ttrain-logloss:0.00088\teval-logloss:0.00104\n",
      "[187]\ttrain-logloss:0.00088\teval-logloss:0.00104\n",
      "[188]\ttrain-logloss:0.00088\teval-logloss:0.00104\n",
      "[189]\ttrain-logloss:0.00087\teval-logloss:0.00104\n",
      "[190]\ttrain-logloss:0.00087\teval-logloss:0.00104\n",
      "[191]\ttrain-logloss:0.00087\teval-logloss:0.00104\n",
      "[192]\ttrain-logloss:0.00087\teval-logloss:0.00104\n",
      "[193]\ttrain-logloss:0.00087\teval-logloss:0.00104\n",
      "[194]\ttrain-logloss:0.00087\teval-logloss:0.00104\n",
      "[195]\ttrain-logloss:0.00086\teval-logloss:0.00103\n",
      "[196]\ttrain-logloss:0.00086\teval-logloss:0.00103\n",
      "[197]\ttrain-logloss:0.00086\teval-logloss:0.00103\n",
      "[198]\ttrain-logloss:0.00086\teval-logloss:0.00103\n",
      "[199]\ttrain-logloss:0.00085\teval-logloss:0.00102\n",
      "[200]\ttrain-logloss:0.00085\teval-logloss:0.00102\n",
      "[201]\ttrain-logloss:0.00085\teval-logloss:0.00102\n",
      "[202]\ttrain-logloss:0.00085\teval-logloss:0.00102\n",
      "[203]\ttrain-logloss:0.00084\teval-logloss:0.00102\n",
      "[204]\ttrain-logloss:0.00084\teval-logloss:0.00102\n",
      "[205]\ttrain-logloss:0.00084\teval-logloss:0.00102\n",
      "[206]\ttrain-logloss:0.00084\teval-logloss:0.00102\n",
      "[207]\ttrain-logloss:0.00084\teval-logloss:0.00102\n",
      "[208]\ttrain-logloss:0.00084\teval-logloss:0.00101\n",
      "[209]\ttrain-logloss:0.00084\teval-logloss:0.00101\n",
      "[210]\ttrain-logloss:0.00084\teval-logloss:0.00101\n",
      "[211]\ttrain-logloss:0.00084\teval-logloss:0.00101\n",
      "[212]\ttrain-logloss:0.00083\teval-logloss:0.00101\n",
      "[213]\ttrain-logloss:0.00083\teval-logloss:0.00101\n",
      "[214]\ttrain-logloss:0.00083\teval-logloss:0.00101\n",
      "[215]\ttrain-logloss:0.00083\teval-logloss:0.00101\n",
      "[216]\ttrain-logloss:0.00083\teval-logloss:0.00101\n",
      "[217]\ttrain-logloss:0.00083\teval-logloss:0.00101\n",
      "[218]\ttrain-logloss:0.00083\teval-logloss:0.00101\n",
      "[219]\ttrain-logloss:0.00083\teval-logloss:0.00101\n",
      "[220]\ttrain-logloss:0.00083\teval-logloss:0.00101\n",
      "[221]\ttrain-logloss:0.00083\teval-logloss:0.00100\n",
      "[222]\ttrain-logloss:0.00082\teval-logloss:0.00100\n",
      "[223]\ttrain-logloss:0.00082\teval-logloss:0.00100\n",
      "[224]\ttrain-logloss:0.00082\teval-logloss:0.00100\n",
      "[225]\ttrain-logloss:0.00082\teval-logloss:0.00100\n",
      "[226]\ttrain-logloss:0.00082\teval-logloss:0.00100\n",
      "[227]\ttrain-logloss:0.00082\teval-logloss:0.00100\n",
      "[228]\ttrain-logloss:0.00081\teval-logloss:0.00100\n",
      "[229]\ttrain-logloss:0.00081\teval-logloss:0.00100\n",
      "[230]\ttrain-logloss:0.00081\teval-logloss:0.00099\n",
      "[231]\ttrain-logloss:0.00081\teval-logloss:0.00099\n",
      "[232]\ttrain-logloss:0.00081\teval-logloss:0.00099\n",
      "[233]\ttrain-logloss:0.00081\teval-logloss:0.00099\n",
      "[234]\ttrain-logloss:0.00081\teval-logloss:0.00099\n",
      "[235]\ttrain-logloss:0.00080\teval-logloss:0.00099\n",
      "[236]\ttrain-logloss:0.00080\teval-logloss:0.00099\n",
      "[237]\ttrain-logloss:0.00080\teval-logloss:0.00099\n",
      "[238]\ttrain-logloss:0.00080\teval-logloss:0.00098\n",
      "[239]\ttrain-logloss:0.00080\teval-logloss:0.00098\n",
      "[240]\ttrain-logloss:0.00080\teval-logloss:0.00098\n",
      "[241]\ttrain-logloss:0.00080\teval-logloss:0.00098\n",
      "[242]\ttrain-logloss:0.00080\teval-logloss:0.00098\n",
      "[243]\ttrain-logloss:0.00079\teval-logloss:0.00098\n",
      "[244]\ttrain-logloss:0.00079\teval-logloss:0.00098\n",
      "[245]\ttrain-logloss:0.00079\teval-logloss:0.00098\n",
      "[246]\ttrain-logloss:0.00079\teval-logloss:0.00098\n",
      "[247]\ttrain-logloss:0.00079\teval-logloss:0.00097\n",
      "[248]\ttrain-logloss:0.00079\teval-logloss:0.00097\n",
      "[249]\ttrain-logloss:0.00078\teval-logloss:0.00097\n",
      "[250]\ttrain-logloss:0.00078\teval-logloss:0.00097\n",
      "[251]\ttrain-logloss:0.00078\teval-logloss:0.00097\n",
      "[252]\ttrain-logloss:0.00078\teval-logloss:0.00097\n",
      "[253]\ttrain-logloss:0.00078\teval-logloss:0.00097\n",
      "[254]\ttrain-logloss:0.00078\teval-logloss:0.00097\n",
      "[255]\ttrain-logloss:0.00078\teval-logloss:0.00096\n",
      "[256]\ttrain-logloss:0.00077\teval-logloss:0.00096\n",
      "[257]\ttrain-logloss:0.00077\teval-logloss:0.00096\n",
      "[258]\ttrain-logloss:0.00077\teval-logloss:0.00096\n",
      "[259]\ttrain-logloss:0.00077\teval-logloss:0.00096\n",
      "[260]\ttrain-logloss:0.00077\teval-logloss:0.00096\n",
      "[261]\ttrain-logloss:0.00077\teval-logloss:0.00096\n",
      "[262]\ttrain-logloss:0.00077\teval-logloss:0.00096\n",
      "[263]\ttrain-logloss:0.00076\teval-logloss:0.00095\n",
      "[264]\ttrain-logloss:0.00076\teval-logloss:0.00095\n",
      "[265]\ttrain-logloss:0.00076\teval-logloss:0.00095\n",
      "[266]\ttrain-logloss:0.00076\teval-logloss:0.00095\n",
      "[267]\ttrain-logloss:0.00076\teval-logloss:0.00095\n",
      "[268]\ttrain-logloss:0.00076\teval-logloss:0.00095\n",
      "[269]\ttrain-logloss:0.00076\teval-logloss:0.00095\n",
      "[270]\ttrain-logloss:0.00075\teval-logloss:0.00094\n",
      "[271]\ttrain-logloss:0.00075\teval-logloss:0.00094\n",
      "[272]\ttrain-logloss:0.00075\teval-logloss:0.00094\n",
      "[273]\ttrain-logloss:0.00075\teval-logloss:0.00094\n",
      "[274]\ttrain-logloss:0.00075\teval-logloss:0.00094\n",
      "[275]\ttrain-logloss:0.00075\teval-logloss:0.00094\n",
      "[276]\ttrain-logloss:0.00075\teval-logloss:0.00094\n",
      "[277]\ttrain-logloss:0.00074\teval-logloss:0.00093\n",
      "[278]\ttrain-logloss:0.00074\teval-logloss:0.00093\n",
      "[279]\ttrain-logloss:0.00074\teval-logloss:0.00093\n",
      "[280]\ttrain-logloss:0.00074\teval-logloss:0.00093\n",
      "[281]\ttrain-logloss:0.00074\teval-logloss:0.00093\n",
      "[282]\ttrain-logloss:0.00074\teval-logloss:0.00093\n",
      "[283]\ttrain-logloss:0.00074\teval-logloss:0.00093\n",
      "[284]\ttrain-logloss:0.00074\teval-logloss:0.00093\n",
      "[285]\ttrain-logloss:0.00074\teval-logloss:0.00093\n",
      "[286]\ttrain-logloss:0.00074\teval-logloss:0.00093\n",
      "[287]\ttrain-logloss:0.00074\teval-logloss:0.00091\n",
      "[288]\ttrain-logloss:0.00074\teval-logloss:0.00091\n",
      "[289]\ttrain-logloss:0.00073\teval-logloss:0.00091\n",
      "[290]\ttrain-logloss:0.00073\teval-logloss:0.00091\n",
      "[291]\ttrain-logloss:0.00073\teval-logloss:0.00091\n",
      "[292]\ttrain-logloss:0.00073\teval-logloss:0.00091\n",
      "[293]\ttrain-logloss:0.00073\teval-logloss:0.00091\n",
      "[294]\ttrain-logloss:0.00073\teval-logloss:0.00091\n",
      "[295]\ttrain-logloss:0.00073\teval-logloss:0.00091\n",
      "[296]\ttrain-logloss:0.00073\teval-logloss:0.00091\n",
      "[297]\ttrain-logloss:0.00073\teval-logloss:0.00091\n",
      "[298]\ttrain-logloss:0.00073\teval-logloss:0.00091\n",
      "[299]\ttrain-logloss:0.00072\teval-logloss:0.00091\n",
      "[300]\ttrain-logloss:0.00072\teval-logloss:0.00091\n",
      "[301]\ttrain-logloss:0.00072\teval-logloss:0.00090\n",
      "[302]\ttrain-logloss:0.00072\teval-logloss:0.00090\n",
      "[303]\ttrain-logloss:0.00072\teval-logloss:0.00090\n",
      "[304]\ttrain-logloss:0.00072\teval-logloss:0.00090\n",
      "[305]\ttrain-logloss:0.00072\teval-logloss:0.00090\n",
      "[306]\ttrain-logloss:0.00072\teval-logloss:0.00090\n",
      "[307]\ttrain-logloss:0.00072\teval-logloss:0.00090\n",
      "[308]\ttrain-logloss:0.00072\teval-logloss:0.00090\n",
      "[309]\ttrain-logloss:0.00071\teval-logloss:0.00090\n",
      "[310]\ttrain-logloss:0.00071\teval-logloss:0.00090\n",
      "[311]\ttrain-logloss:0.00071\teval-logloss:0.00090\n",
      "[312]\ttrain-logloss:0.00071\teval-logloss:0.00089\n",
      "[313]\ttrain-logloss:0.00071\teval-logloss:0.00089\n",
      "[314]\ttrain-logloss:0.00071\teval-logloss:0.00089\n",
      "[315]\ttrain-logloss:0.00071\teval-logloss:0.00089\n",
      "[316]\ttrain-logloss:0.00070\teval-logloss:0.00089\n",
      "[317]\ttrain-logloss:0.00070\teval-logloss:0.00089\n",
      "[318]\ttrain-logloss:0.00070\teval-logloss:0.00089\n",
      "[319]\ttrain-logloss:0.00070\teval-logloss:0.00089\n",
      "[320]\ttrain-logloss:0.00070\teval-logloss:0.00089\n",
      "[321]\ttrain-logloss:0.00070\teval-logloss:0.00089\n",
      "[322]\ttrain-logloss:0.00070\teval-logloss:0.00089\n",
      "[323]\ttrain-logloss:0.00070\teval-logloss:0.00089\n",
      "[324]\ttrain-logloss:0.00070\teval-logloss:0.00088\n",
      "[325]\ttrain-logloss:0.00070\teval-logloss:0.00088\n",
      "[326]\ttrain-logloss:0.00070\teval-logloss:0.00088\n",
      "[327]\ttrain-logloss:0.00070\teval-logloss:0.00088\n",
      "[328]\ttrain-logloss:0.00069\teval-logloss:0.00088\n",
      "[329]\ttrain-logloss:0.00069\teval-logloss:0.00088\n",
      "[330]\ttrain-logloss:0.00069\teval-logloss:0.00088\n",
      "[331]\ttrain-logloss:0.00069\teval-logloss:0.00088\n",
      "[332]\ttrain-logloss:0.00069\teval-logloss:0.00088\n",
      "[333]\ttrain-logloss:0.00069\teval-logloss:0.00088\n",
      "[334]\ttrain-logloss:0.00069\teval-logloss:0.00088\n",
      "[335]\ttrain-logloss:0.00069\teval-logloss:0.00087\n",
      "[336]\ttrain-logloss:0.00069\teval-logloss:0.00087\n",
      "[337]\ttrain-logloss:0.00069\teval-logloss:0.00087\n",
      "[338]\ttrain-logloss:0.00069\teval-logloss:0.00087\n",
      "[339]\ttrain-logloss:0.00068\teval-logloss:0.00087\n",
      "[340]\ttrain-logloss:0.00068\teval-logloss:0.00087\n",
      "[341]\ttrain-logloss:0.00068\teval-logloss:0.00087\n",
      "[342]\ttrain-logloss:0.00068\teval-logloss:0.00087\n",
      "[343]\ttrain-logloss:0.00068\teval-logloss:0.00087\n",
      "[344]\ttrain-logloss:0.00068\teval-logloss:0.00087\n",
      "[345]\ttrain-logloss:0.00068\teval-logloss:0.00087\n",
      "[346]\ttrain-logloss:0.00068\teval-logloss:0.00087\n",
      "[347]\ttrain-logloss:0.00068\teval-logloss:0.00087\n",
      "[348]\ttrain-logloss:0.00068\teval-logloss:0.00087\n",
      "[349]\ttrain-logloss:0.00068\teval-logloss:0.00087\n",
      "[350]\ttrain-logloss:0.00068\teval-logloss:0.00087\n",
      "[351]\ttrain-logloss:0.00068\teval-logloss:0.00087\n",
      "[352]\ttrain-logloss:0.00067\teval-logloss:0.00087\n",
      "[353]\ttrain-logloss:0.00067\teval-logloss:0.00087\n",
      "[354]\ttrain-logloss:0.00067\teval-logloss:0.00086\n",
      "[355]\ttrain-logloss:0.00067\teval-logloss:0.00086\n",
      "[356]\ttrain-logloss:0.00067\teval-logloss:0.00086\n",
      "[357]\ttrain-logloss:0.00067\teval-logloss:0.00086\n",
      "[358]\ttrain-logloss:0.00067\teval-logloss:0.00086\n",
      "[359]\ttrain-logloss:0.00067\teval-logloss:0.00086\n",
      "[360]\ttrain-logloss:0.00066\teval-logloss:0.00086\n",
      "[361]\ttrain-logloss:0.00066\teval-logloss:0.00086\n",
      "[362]\ttrain-logloss:0.00066\teval-logloss:0.00086\n",
      "[363]\ttrain-logloss:0.00066\teval-logloss:0.00086\n",
      "[364]\ttrain-logloss:0.00066\teval-logloss:0.00085\n",
      "[365]\ttrain-logloss:0.00066\teval-logloss:0.00085\n",
      "[366]\ttrain-logloss:0.00066\teval-logloss:0.00085\n",
      "[367]\ttrain-logloss:0.00066\teval-logloss:0.00085\n",
      "[368]\ttrain-logloss:0.00066\teval-logloss:0.00085\n",
      "[369]\ttrain-logloss:0.00066\teval-logloss:0.00085\n",
      "[370]\ttrain-logloss:0.00066\teval-logloss:0.00085\n",
      "[371]\ttrain-logloss:0.00066\teval-logloss:0.00085\n",
      "[372]\ttrain-logloss:0.00065\teval-logloss:0.00085\n",
      "[373]\ttrain-logloss:0.00065\teval-logloss:0.00085\n",
      "[374]\ttrain-logloss:0.00065\teval-logloss:0.00085\n",
      "[375]\ttrain-logloss:0.00065\teval-logloss:0.00085\n",
      "[376]\ttrain-logloss:0.00065\teval-logloss:0.00085\n",
      "[377]\ttrain-logloss:0.00065\teval-logloss:0.00085\n",
      "[378]\ttrain-logloss:0.00065\teval-logloss:0.00085\n",
      "[379]\ttrain-logloss:0.00065\teval-logloss:0.00085\n",
      "[380]\ttrain-logloss:0.00065\teval-logloss:0.00085\n",
      "[381]\ttrain-logloss:0.00065\teval-logloss:0.00085\n",
      "[382]\ttrain-logloss:0.00065\teval-logloss:0.00085\n",
      "[383]\ttrain-logloss:0.00065\teval-logloss:0.00084\n",
      "[384]\ttrain-logloss:0.00065\teval-logloss:0.00084\n",
      "[385]\ttrain-logloss:0.00064\teval-logloss:0.00084\n",
      "[386]\ttrain-logloss:0.00064\teval-logloss:0.00084\n",
      "[387]\ttrain-logloss:0.00064\teval-logloss:0.00084\n",
      "[388]\ttrain-logloss:0.00064\teval-logloss:0.00084\n",
      "[389]\ttrain-logloss:0.00064\teval-logloss:0.00084\n",
      "[390]\ttrain-logloss:0.00064\teval-logloss:0.00084\n",
      "[391]\ttrain-logloss:0.00064\teval-logloss:0.00084\n",
      "[392]\ttrain-logloss:0.00064\teval-logloss:0.00084\n",
      "[393]\ttrain-logloss:0.00064\teval-logloss:0.00084\n",
      "[394]\ttrain-logloss:0.00064\teval-logloss:0.00084\n",
      "[395]\ttrain-logloss:0.00064\teval-logloss:0.00084\n",
      "[396]\ttrain-logloss:0.00064\teval-logloss:0.00083\n",
      "[397]\ttrain-logloss:0.00064\teval-logloss:0.00083\n",
      "[398]\ttrain-logloss:0.00064\teval-logloss:0.00083\n",
      "[399]\ttrain-logloss:0.00063\teval-logloss:0.00083\n",
      "[400]\ttrain-logloss:0.00063\teval-logloss:0.00083\n",
      "[401]\ttrain-logloss:0.00063\teval-logloss:0.00083\n",
      "[402]\ttrain-logloss:0.00063\teval-logloss:0.00083\n",
      "[403]\ttrain-logloss:0.00063\teval-logloss:0.00083\n",
      "[404]\ttrain-logloss:0.00063\teval-logloss:0.00083\n",
      "[405]\ttrain-logloss:0.00063\teval-logloss:0.00083\n",
      "[406]\ttrain-logloss:0.00063\teval-logloss:0.00083\n",
      "[407]\ttrain-logloss:0.00063\teval-logloss:0.00083\n",
      "[408]\ttrain-logloss:0.00063\teval-logloss:0.00083\n",
      "[409]\ttrain-logloss:0.00063\teval-logloss:0.00083\n",
      "[410]\ttrain-logloss:0.00063\teval-logloss:0.00083\n",
      "[411]\ttrain-logloss:0.00062\teval-logloss:0.00083\n",
      "[412]\ttrain-logloss:0.00062\teval-logloss:0.00083\n",
      "[413]\ttrain-logloss:0.00062\teval-logloss:0.00083\n",
      "[414]\ttrain-logloss:0.00062\teval-logloss:0.00082\n",
      "[415]\ttrain-logloss:0.00062\teval-logloss:0.00082\n",
      "[416]\ttrain-logloss:0.00062\teval-logloss:0.00082\n",
      "[417]\ttrain-logloss:0.00062\teval-logloss:0.00082\n",
      "[418]\ttrain-logloss:0.00062\teval-logloss:0.00082\n",
      "[419]\ttrain-logloss:0.00062\teval-logloss:0.00082\n",
      "[420]\ttrain-logloss:0.00062\teval-logloss:0.00083\n",
      "[421]\ttrain-logloss:0.00062\teval-logloss:0.00083\n",
      "[422]\ttrain-logloss:0.00062\teval-logloss:0.00083\n",
      "[423]\ttrain-logloss:0.00062\teval-logloss:0.00083\n",
      "[424]\ttrain-logloss:0.00062\teval-logloss:0.00082\n",
      "[425]\ttrain-logloss:0.00062\teval-logloss:0.00082\n",
      "[426]\ttrain-logloss:0.00061\teval-logloss:0.00082\n",
      "[427]\ttrain-logloss:0.00061\teval-logloss:0.00082\n",
      "[428]\ttrain-logloss:0.00061\teval-logloss:0.00082\n",
      "[429]\ttrain-logloss:0.00061\teval-logloss:0.00081\n",
      "[430]\ttrain-logloss:0.00061\teval-logloss:0.00081\n",
      "[431]\ttrain-logloss:0.00061\teval-logloss:0.00081\n",
      "[432]\ttrain-logloss:0.00061\teval-logloss:0.00081\n",
      "[433]\ttrain-logloss:0.00061\teval-logloss:0.00081\n",
      "[434]\ttrain-logloss:0.00061\teval-logloss:0.00081\n",
      "[435]\ttrain-logloss:0.00061\teval-logloss:0.00081\n",
      "[436]\ttrain-logloss:0.00061\teval-logloss:0.00081\n",
      "[437]\ttrain-logloss:0.00061\teval-logloss:0.00081\n",
      "[438]\ttrain-logloss:0.00061\teval-logloss:0.00081\n",
      "[439]\ttrain-logloss:0.00060\teval-logloss:0.00081\n",
      "[440]\ttrain-logloss:0.00060\teval-logloss:0.00081\n",
      "[441]\ttrain-logloss:0.00060\teval-logloss:0.00081\n",
      "[442]\ttrain-logloss:0.00060\teval-logloss:0.00081\n",
      "[443]\ttrain-logloss:0.00060\teval-logloss:0.00081\n",
      "[444]\ttrain-logloss:0.00060\teval-logloss:0.00081\n",
      "[445]\ttrain-logloss:0.00060\teval-logloss:0.00081\n",
      "[446]\ttrain-logloss:0.00060\teval-logloss:0.00081\n",
      "[447]\ttrain-logloss:0.00060\teval-logloss:0.00081\n",
      "[448]\ttrain-logloss:0.00060\teval-logloss:0.00080\n",
      "[449]\ttrain-logloss:0.00060\teval-logloss:0.00080\n",
      "[450]\ttrain-logloss:0.00060\teval-logloss:0.00080\n",
      "[451]\ttrain-logloss:0.00060\teval-logloss:0.00080\n",
      "[452]\ttrain-logloss:0.00060\teval-logloss:0.00080\n",
      "[453]\ttrain-logloss:0.00060\teval-logloss:0.00080\n",
      "[454]\ttrain-logloss:0.00060\teval-logloss:0.00080\n",
      "[455]\ttrain-logloss:0.00059\teval-logloss:0.00080\n",
      "[456]\ttrain-logloss:0.00059\teval-logloss:0.00080\n",
      "[457]\ttrain-logloss:0.00059\teval-logloss:0.00080\n",
      "[458]\ttrain-logloss:0.00059\teval-logloss:0.00080\n",
      "[459]\ttrain-logloss:0.00059\teval-logloss:0.00080\n",
      "[460]\ttrain-logloss:0.00059\teval-logloss:0.00080\n",
      "[461]\ttrain-logloss:0.00059\teval-logloss:0.00080\n",
      "[462]\ttrain-logloss:0.00059\teval-logloss:0.00080\n",
      "[463]\ttrain-logloss:0.00059\teval-logloss:0.00080\n",
      "[464]\ttrain-logloss:0.00059\teval-logloss:0.00080\n",
      "[465]\ttrain-logloss:0.00059\teval-logloss:0.00080\n",
      "[466]\ttrain-logloss:0.00059\teval-logloss:0.00080\n",
      "[467]\ttrain-logloss:0.00059\teval-logloss:0.00080\n",
      "[468]\ttrain-logloss:0.00059\teval-logloss:0.00080\n",
      "[469]\ttrain-logloss:0.00058\teval-logloss:0.00079\n",
      "[470]\ttrain-logloss:0.00058\teval-logloss:0.00079\n",
      "[471]\ttrain-logloss:0.00058\teval-logloss:0.00079\n",
      "[472]\ttrain-logloss:0.00058\teval-logloss:0.00079\n",
      "[473]\ttrain-logloss:0.00058\teval-logloss:0.00079\n",
      "[474]\ttrain-logloss:0.00058\teval-logloss:0.00079\n",
      "[475]\ttrain-logloss:0.00058\teval-logloss:0.00079\n",
      "[476]\ttrain-logloss:0.00058\teval-logloss:0.00079\n",
      "[477]\ttrain-logloss:0.00058\teval-logloss:0.00079\n",
      "[478]\ttrain-logloss:0.00058\teval-logloss:0.00079\n",
      "[479]\ttrain-logloss:0.00058\teval-logloss:0.00079\n",
      "[480]\ttrain-logloss:0.00058\teval-logloss:0.00079\n",
      "[481]\ttrain-logloss:0.00058\teval-logloss:0.00079\n",
      "[482]\ttrain-logloss:0.00058\teval-logloss:0.00079\n",
      "[483]\ttrain-logloss:0.00058\teval-logloss:0.00079\n",
      "[484]\ttrain-logloss:0.00057\teval-logloss:0.00079\n",
      "[485]\ttrain-logloss:0.00057\teval-logloss:0.00079\n",
      "[486]\ttrain-logloss:0.00057\teval-logloss:0.00079\n",
      "[487]\ttrain-logloss:0.00057\teval-logloss:0.00079\n",
      "[488]\ttrain-logloss:0.00057\teval-logloss:0.00079\n",
      "[489]\ttrain-logloss:0.00057\teval-logloss:0.00079\n",
      "[490]\ttrain-logloss:0.00057\teval-logloss:0.00079\n",
      "[491]\ttrain-logloss:0.00057\teval-logloss:0.00079\n",
      "[492]\ttrain-logloss:0.00057\teval-logloss:0.00079\n",
      "[493]\ttrain-logloss:0.00057\teval-logloss:0.00079\n",
      "[494]\ttrain-logloss:0.00057\teval-logloss:0.00079\n",
      "[495]\ttrain-logloss:0.00057\teval-logloss:0.00079\n",
      "[496]\ttrain-logloss:0.00057\teval-logloss:0.00079\n",
      "[497]\ttrain-logloss:0.00057\teval-logloss:0.00079\n",
      "[498]\ttrain-logloss:0.00057\teval-logloss:0.00079\n",
      "[499]\ttrain-logloss:0.00057\teval-logloss:0.00079\n"
     ]
    }
   ],
   "source": [
    "import xgboost as xgb\n",
    "\n",
    "dtrain = xgb.DMatrix(X_train, label=y_train)\n",
    "dtest = xgb.DMatrix(X_test, label=y_test)\n",
    "\n",
    "params = {\n",
    "    'objective': 'binary:logistic',\n",
    "    'colsample_bytree': 1.0,\n",
    "    'learning_rate': 0.1,\n",
    "    'max_depth': 4,\n",
    "    'eval_metric': 'logloss',\n",
    "    'subsample': 1.0\n",
    "}\n",
    "\n",
    "evals = [(dtrain, 'train'), (dtest, 'eval')]\n",
    "\n",
    "model = xgb.train(params,\n",
    "                  dtrain,\n",
    "                  num_boost_round=500,\n",
    "                  evals=evals,\n",
    "                  early_stopping_rounds=30,\n",
    "                  verbose_eval=True)"
   ]
  },
  {
   "cell_type": "code",
   "execution_count": 108,
   "id": "QgBwDPnIFC1a",
   "metadata": {
    "colab": {
     "base_uri": "https://localhost:8080/",
     "height": 328
    },
    "id": "QgBwDPnIFC1a",
    "outputId": "b8d5df58-0fd4-4842-b11e-299209d5a2c8"
   },
   "outputs": [
    {
     "name": "stdout",
     "output_type": "stream",
     "text": [
      "Accuracy Score:  0.9997661340768426\n",
      "Precision Score:  0.9651984774333877\n",
      "Recall Score:  0.8521363418146903\n",
      "F1 Score:  0.9051504334523203\n",
      "Confusion Matrix:  [[1588508      64]\n",
      " [    308    1775]]\n"
     ]
    },
    {
     "data": {
      "image/png": "[encoded data removed]",
      "text/plain": [
       "<Figure size 640x480 with 2 Axes>"
      ]
     },
     "metadata": {},
     "output_type": "display_data"
    }
   ],
   "source": [
    "dtest = xgb.DMatrix(X_test)\n",
    "y_proba = model.predict(dtest)\n",
    "pred6 = (y_proba >= 0.5).astype(int)\n",
    "\n",
    "# Now evaluate\n",
    "evaluate_model(y_test, pred6)"
   ]
  },
  {
   "cell_type": "code",
   "execution_count": 114,
   "id": "lbamHFaRFbwj",
   "metadata": {
    "id": "lbamHFaRFbwj",
    "scrolled": true
   },
   "outputs": [
    {
     "name": "stdout",
     "output_type": "stream",
     "text": [
      "Prediction counts:\n",
      "predicted\n",
      "0    1588816\n",
      "1       1839\n",
      "Name: count, dtype: int64\n",
      "\n",
      "Confusion Matrix:\n",
      "          Predicted 0  Predicted 1\n",
      "Actual 0      1588508           64\n",
      "Actual 1          308         1775\n",
      "\n",
      "Classification Report:\n",
      "              precision    recall  f1-score   support\n",
      "\n",
      "           0       1.00      1.00      1.00   1588572\n",
      "           1       0.97      0.85      0.91      2083\n",
      "\n",
      "    accuracy                           1.00   1590655\n",
      "   macro avg       0.98      0.93      0.95   1590655\n",
      "weighted avg       1.00      1.00      1.00   1590655\n",
      "\n"
     ]
    }
   ],
   "source": [
    "from sklearn.metrics import confusion_matrix, classification_report\n",
    "predictions = pd.DataFrame(pred6, columns=['predicted'])\n",
    "\n",
    "# Check distribution of predicted classes (0/1)\n",
    "print(\"Prediction counts:\")\n",
    "print(predictions['predicted'].value_counts())\n",
    "\n",
    "# Confusion matrix\n",
    "cm = confusion_matrix(y_test, pred6)\n",
    "cm_df = pd.DataFrame(cm, columns=['Predicted 0', 'Predicted 1'], index=['Actual 0', 'Actual 1'])\n",
    "\n",
    "print(\"\\nConfusion Matrix:\")\n",
    "print(cm_df)\n",
    "\n",
    "# Optional: More detailed performance\n",
    "print(\"\\nClassification Report:\")\n",
    "print(classification_report(y_test, pred6))"
   ]
  },
  {
   "cell_type": "markdown",
   "id": "afb1a0f9-370b-4890-91be-c4931dcbe63e",
   "metadata": {
    "id": "afb1a0f9-370b-4890-91be-c4931dcbe63e"
   },
   "source": [
    "### Selecting Our Final Model\n",
    "\n",
    "The final model used which had the best scores across all metrics will be the random forest classifier."
   ]
  },
  {
   "cell_type": "code",
   "execution_count": 117,
   "id": "75375877-68e6-45cb-b2d3-0e8eddd2338d",
   "metadata": {},
   "outputs": [
    {
     "data": {
      "text/plain": [
       "['creditFraudFinalModel.pkl']"
      ]
     },
     "execution_count": 117,
     "metadata": {},
     "output_type": "execute_result"
    }
   ],
   "source": [
    "import joblib\n",
    "joblib.dump(rfc, \"creditFraudFinalModel.pkl\")"
   ]
  },
  {
   "cell_type": "markdown",
   "id": "12c48610-566b-4857-8ce5-54abd1e5426d",
   "metadata": {},
   "source": [
    "                                                     --- END ---"
   ]
  }
 ],
 "metadata": {
  "colab": {
   "name": "Credit Card Fraud Detection by Group 3 Zummit Africa AI/ML Team.ipynb",
   "provenance": []
  },
  "kernelspec": {
   "display_name": "Python 3 (ipykernel)",
   "language": "python",
   "name": "python3"
  },
  "language_info": {
   "codemirror_mode": {
    "name": "ipython",
    "version": 3
   },
   "file_extension": ".py",
   "mimetype": "text/x-python",
   "name": "python",
   "nbconvert_exporter": "python",
   "pygments_lexer": "ipython3",
   "version": "3.11.7"
  }
 },
 "nbformat": 4,
 "nbformat_minor": 5
}
